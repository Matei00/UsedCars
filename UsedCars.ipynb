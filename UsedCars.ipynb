{
 "cells": [
  {
   "cell_type": "code",
   "execution_count": 224,
   "metadata": {
    "collapsed": true,
    "ExecuteTime": {
     "end_time": "2023-07-23T11:39:40.651389100Z",
     "start_time": "2023-07-23T11:39:40.642871100Z"
    }
   },
   "outputs": [],
   "source": [
    "import pandas as pd\n",
    "import numpy as np"
   ]
  },
  {
   "cell_type": "code",
   "execution_count": 225,
   "outputs": [
    {
     "data": {
      "text/plain": "        Unnamed: 0       brand              model  color registration_date  \\\n0                0  alfa-romeo     Alfa Romeo GTV    red            Oct-95   \n1                1  alfa-romeo     Alfa Romeo 164  black            Feb-95   \n2                2  alfa-romeo  Alfa Romeo Spider  black            Feb-95   \n3                3  alfa-romeo  Alfa Romeo Spider  black            Jul-95   \n4                4  alfa-romeo     Alfa Romeo 164    red            Nov-96   \n...            ...         ...                ...    ...               ...   \n251074      251074       volvo         Volvo XC40  white            Apr-23   \n251075      251075       volvo         Volvo XC90  white            Mar-23   \n251076      251076       volvo          Volvo V60  white            May-23   \n251077      251077       volvo         Volvo XC40  white            May-23   \n251078      251078       volvo         Volvo XC40   gold            Mar-23   \n\n        year price_in_euro power_kw power_ps transmission_type fuel_type  \\\n0       1995          1300      148      201            Manual    Petrol   \n1       1995         24900      191      260            Manual    Petrol   \n2       1995          5900      110      150           Unknown    Petrol   \n3       1995          4900      110      150            Manual    Petrol   \n4       1996         17950      132      179            Manual    Petrol   \n...      ...           ...      ...      ...               ...       ...   \n251074  2023         57990      192      261         Automatic    Hybrid   \n251075  2023         89690      173      235         Automatic    Diesel   \n251076  2023         61521      145      197         Automatic    Diesel   \n251077  2023         57890      132      179         Automatic    Hybrid   \n251078  2023         52900      160      218         Automatic  Electric   \n\n       fuel_consumption_l_100km fuel_consumption_g_km  mileage_in_km  \\\n0                 10,9 l/100 km              260 g/km       160500.0   \n1                           NaN                #NAME?       190000.0   \n2                           NaN                #NAME?       129000.0   \n3                  9,5 l/100 km              225 g/km       189500.0   \n4                  7,2 l/100 km                #NAME?        96127.0   \n...                         ...                   ...            ...   \n251074                      NaN      43 km Reichweite         1229.0   \n251075             7,6 l/100 km              202 g/km         4900.0   \n251076             4,7 l/100 km              125 g/km         1531.0   \n251077                      NaN      45 km Reichweite         1500.0   \n251078                      NaN     438 km Reichweite           50.0   \n\n                                        offer_description  \n0                                               2.0 V6 TB  \n1                                     Q4 Allrad, 3.2L GTA  \n2                                           ALFA ROME 916  \n3                                    2.0 16V Twin Spark L  \n4                   3.0i Super V6, absoluter Topzustand !  \n...                                                   ...  \n251074  Plus Bright T5 Recharge Intellisafe*Surround+P...  \n251075  B5 AWD Diesel Ultimate Dark 7-Sitzer Massage F...  \n251076            B4 D Plus Dark 145 kW, 5-türig (Diesel)  \n251077        T5 Recharge Plus Dark *Standh*360°*beh.Lenk  \n251078               Ultimate Recharge Twin Motor AHK GJR  \n\n[251079 rows x 15 columns]",
      "text/html": "<div>\n<style scoped>\n    .dataframe tbody tr th:only-of-type {\n        vertical-align: middle;\n    }\n\n    .dataframe tbody tr th {\n        vertical-align: top;\n    }\n\n    .dataframe thead th {\n        text-align: right;\n    }\n</style>\n<table border=\"1\" class=\"dataframe\">\n  <thead>\n    <tr style=\"text-align: right;\">\n      <th></th>\n      <th>Unnamed: 0</th>\n      <th>brand</th>\n      <th>model</th>\n      <th>color</th>\n      <th>registration_date</th>\n      <th>year</th>\n      <th>price_in_euro</th>\n      <th>power_kw</th>\n      <th>power_ps</th>\n      <th>transmission_type</th>\n      <th>fuel_type</th>\n      <th>fuel_consumption_l_100km</th>\n      <th>fuel_consumption_g_km</th>\n      <th>mileage_in_km</th>\n      <th>offer_description</th>\n    </tr>\n  </thead>\n  <tbody>\n    <tr>\n      <th>0</th>\n      <td>0</td>\n      <td>alfa-romeo</td>\n      <td>Alfa Romeo GTV</td>\n      <td>red</td>\n      <td>Oct-95</td>\n      <td>1995</td>\n      <td>1300</td>\n      <td>148</td>\n      <td>201</td>\n      <td>Manual</td>\n      <td>Petrol</td>\n      <td>10,9 l/100 km</td>\n      <td>260 g/km</td>\n      <td>160500.0</td>\n      <td>2.0 V6 TB</td>\n    </tr>\n    <tr>\n      <th>1</th>\n      <td>1</td>\n      <td>alfa-romeo</td>\n      <td>Alfa Romeo 164</td>\n      <td>black</td>\n      <td>Feb-95</td>\n      <td>1995</td>\n      <td>24900</td>\n      <td>191</td>\n      <td>260</td>\n      <td>Manual</td>\n      <td>Petrol</td>\n      <td>NaN</td>\n      <td>#NAME?</td>\n      <td>190000.0</td>\n      <td>Q4 Allrad, 3.2L GTA</td>\n    </tr>\n    <tr>\n      <th>2</th>\n      <td>2</td>\n      <td>alfa-romeo</td>\n      <td>Alfa Romeo Spider</td>\n      <td>black</td>\n      <td>Feb-95</td>\n      <td>1995</td>\n      <td>5900</td>\n      <td>110</td>\n      <td>150</td>\n      <td>Unknown</td>\n      <td>Petrol</td>\n      <td>NaN</td>\n      <td>#NAME?</td>\n      <td>129000.0</td>\n      <td>ALFA ROME 916</td>\n    </tr>\n    <tr>\n      <th>3</th>\n      <td>3</td>\n      <td>alfa-romeo</td>\n      <td>Alfa Romeo Spider</td>\n      <td>black</td>\n      <td>Jul-95</td>\n      <td>1995</td>\n      <td>4900</td>\n      <td>110</td>\n      <td>150</td>\n      <td>Manual</td>\n      <td>Petrol</td>\n      <td>9,5 l/100 km</td>\n      <td>225 g/km</td>\n      <td>189500.0</td>\n      <td>2.0 16V Twin Spark L</td>\n    </tr>\n    <tr>\n      <th>4</th>\n      <td>4</td>\n      <td>alfa-romeo</td>\n      <td>Alfa Romeo 164</td>\n      <td>red</td>\n      <td>Nov-96</td>\n      <td>1996</td>\n      <td>17950</td>\n      <td>132</td>\n      <td>179</td>\n      <td>Manual</td>\n      <td>Petrol</td>\n      <td>7,2 l/100 km</td>\n      <td>#NAME?</td>\n      <td>96127.0</td>\n      <td>3.0i Super V6, absoluter Topzustand !</td>\n    </tr>\n    <tr>\n      <th>...</th>\n      <td>...</td>\n      <td>...</td>\n      <td>...</td>\n      <td>...</td>\n      <td>...</td>\n      <td>...</td>\n      <td>...</td>\n      <td>...</td>\n      <td>...</td>\n      <td>...</td>\n      <td>...</td>\n      <td>...</td>\n      <td>...</td>\n      <td>...</td>\n      <td>...</td>\n    </tr>\n    <tr>\n      <th>251074</th>\n      <td>251074</td>\n      <td>volvo</td>\n      <td>Volvo XC40</td>\n      <td>white</td>\n      <td>Apr-23</td>\n      <td>2023</td>\n      <td>57990</td>\n      <td>192</td>\n      <td>261</td>\n      <td>Automatic</td>\n      <td>Hybrid</td>\n      <td>NaN</td>\n      <td>43 km Reichweite</td>\n      <td>1229.0</td>\n      <td>Plus Bright T5 Recharge Intellisafe*Surround+P...</td>\n    </tr>\n    <tr>\n      <th>251075</th>\n      <td>251075</td>\n      <td>volvo</td>\n      <td>Volvo XC90</td>\n      <td>white</td>\n      <td>Mar-23</td>\n      <td>2023</td>\n      <td>89690</td>\n      <td>173</td>\n      <td>235</td>\n      <td>Automatic</td>\n      <td>Diesel</td>\n      <td>7,6 l/100 km</td>\n      <td>202 g/km</td>\n      <td>4900.0</td>\n      <td>B5 AWD Diesel Ultimate Dark 7-Sitzer Massage F...</td>\n    </tr>\n    <tr>\n      <th>251076</th>\n      <td>251076</td>\n      <td>volvo</td>\n      <td>Volvo V60</td>\n      <td>white</td>\n      <td>May-23</td>\n      <td>2023</td>\n      <td>61521</td>\n      <td>145</td>\n      <td>197</td>\n      <td>Automatic</td>\n      <td>Diesel</td>\n      <td>4,7 l/100 km</td>\n      <td>125 g/km</td>\n      <td>1531.0</td>\n      <td>B4 D Plus Dark 145 kW, 5-türig (Diesel)</td>\n    </tr>\n    <tr>\n      <th>251077</th>\n      <td>251077</td>\n      <td>volvo</td>\n      <td>Volvo XC40</td>\n      <td>white</td>\n      <td>May-23</td>\n      <td>2023</td>\n      <td>57890</td>\n      <td>132</td>\n      <td>179</td>\n      <td>Automatic</td>\n      <td>Hybrid</td>\n      <td>NaN</td>\n      <td>45 km Reichweite</td>\n      <td>1500.0</td>\n      <td>T5 Recharge Plus Dark *Standh*360°*beh.Lenk</td>\n    </tr>\n    <tr>\n      <th>251078</th>\n      <td>251078</td>\n      <td>volvo</td>\n      <td>Volvo XC40</td>\n      <td>gold</td>\n      <td>Mar-23</td>\n      <td>2023</td>\n      <td>52900</td>\n      <td>160</td>\n      <td>218</td>\n      <td>Automatic</td>\n      <td>Electric</td>\n      <td>NaN</td>\n      <td>438 km Reichweite</td>\n      <td>50.0</td>\n      <td>Ultimate Recharge Twin Motor AHK GJR</td>\n    </tr>\n  </tbody>\n</table>\n<p>251079 rows × 15 columns</p>\n</div>"
     },
     "execution_count": 225,
     "metadata": {},
     "output_type": "execute_result"
    }
   ],
   "source": [
    "df = pd.read_csv('data.csv')\n",
    "df"
   ],
   "metadata": {
    "collapsed": false,
    "ExecuteTime": {
     "end_time": "2023-07-23T11:39:41.380511700Z",
     "start_time": "2023-07-23T11:39:40.645387100Z"
    }
   }
  },
  {
   "cell_type": "code",
   "execution_count": 226,
   "outputs": [
    {
     "data": {
      "text/plain": "(251079, 15)"
     },
     "execution_count": 226,
     "metadata": {},
     "output_type": "execute_result"
    }
   ],
   "source": [
    "df.shape"
   ],
   "metadata": {
    "collapsed": false,
    "ExecuteTime": {
     "end_time": "2023-07-23T11:39:41.386474800Z",
     "start_time": "2023-07-23T11:39:41.381512600Z"
    }
   }
  },
  {
   "cell_type": "code",
   "execution_count": 227,
   "outputs": [
    {
     "name": "stdout",
     "output_type": "stream",
     "text": [
      "<class 'pandas.core.frame.DataFrame'>\n",
      "RangeIndex: 251079 entries, 0 to 251078\n",
      "Data columns (total 15 columns):\n",
      " #   Column                    Non-Null Count   Dtype  \n",
      "---  ------                    --------------   -----  \n",
      " 0   Unnamed: 0                251079 non-null  int64  \n",
      " 1   brand                     251079 non-null  object \n",
      " 2   model                     251079 non-null  object \n",
      " 3   color                     250913 non-null  object \n",
      " 4   registration_date         251075 non-null  object \n",
      " 5   year                      251079 non-null  object \n",
      " 6   price_in_euro             251079 non-null  object \n",
      " 7   power_kw                  250945 non-null  object \n",
      " 8   power_ps                  250950 non-null  object \n",
      " 9   transmission_type         251079 non-null  object \n",
      " 10  fuel_type                 251079 non-null  object \n",
      " 11  fuel_consumption_l_100km  224206 non-null  object \n",
      " 12  fuel_consumption_g_km     251079 non-null  object \n",
      " 13  mileage_in_km             250927 non-null  float64\n",
      " 14  offer_description         251078 non-null  object \n",
      "dtypes: float64(1), int64(1), object(13)\n",
      "memory usage: 28.7+ MB\n"
     ]
    }
   ],
   "source": [
    "df.info()"
   ],
   "metadata": {
    "collapsed": false,
    "ExecuteTime": {
     "end_time": "2023-07-23T11:39:41.724447700Z",
     "start_time": "2023-07-23T11:39:41.388506900Z"
    }
   }
  },
  {
   "cell_type": "code",
   "execution_count": 228,
   "outputs": [
    {
     "data": {
      "text/plain": "          Unnamed: 0  mileage_in_km\ncount  251079.000000   2.509270e+05\nmean   125539.000000   8.534002e+04\nstd     72480.408456   7.871706e+04\nmin         0.000000   0.000000e+00\n25%     62769.500000   2.490400e+04\n50%    125539.000000   6.750000e+04\n75%    188308.500000   1.265000e+05\nmax    251078.000000   3.800000e+06",
      "text/html": "<div>\n<style scoped>\n    .dataframe tbody tr th:only-of-type {\n        vertical-align: middle;\n    }\n\n    .dataframe tbody tr th {\n        vertical-align: top;\n    }\n\n    .dataframe thead th {\n        text-align: right;\n    }\n</style>\n<table border=\"1\" class=\"dataframe\">\n  <thead>\n    <tr style=\"text-align: right;\">\n      <th></th>\n      <th>Unnamed: 0</th>\n      <th>mileage_in_km</th>\n    </tr>\n  </thead>\n  <tbody>\n    <tr>\n      <th>count</th>\n      <td>251079.000000</td>\n      <td>2.509270e+05</td>\n    </tr>\n    <tr>\n      <th>mean</th>\n      <td>125539.000000</td>\n      <td>8.534002e+04</td>\n    </tr>\n    <tr>\n      <th>std</th>\n      <td>72480.408456</td>\n      <td>7.871706e+04</td>\n    </tr>\n    <tr>\n      <th>min</th>\n      <td>0.000000</td>\n      <td>0.000000e+00</td>\n    </tr>\n    <tr>\n      <th>25%</th>\n      <td>62769.500000</td>\n      <td>2.490400e+04</td>\n    </tr>\n    <tr>\n      <th>50%</th>\n      <td>125539.000000</td>\n      <td>6.750000e+04</td>\n    </tr>\n    <tr>\n      <th>75%</th>\n      <td>188308.500000</td>\n      <td>1.265000e+05</td>\n    </tr>\n    <tr>\n      <th>max</th>\n      <td>251078.000000</td>\n      <td>3.800000e+06</td>\n    </tr>\n  </tbody>\n</table>\n</div>"
     },
     "execution_count": 228,
     "metadata": {},
     "output_type": "execute_result"
    }
   ],
   "source": [
    "df.describe()"
   ],
   "metadata": {
    "collapsed": false,
    "ExecuteTime": {
     "end_time": "2023-07-23T11:39:41.746753200Z",
     "start_time": "2023-07-23T11:39:41.726448600Z"
    }
   }
  },
  {
   "cell_type": "code",
   "execution_count": 229,
   "outputs": [],
   "source": [
    "df.drop('Unnamed: 0', inplace=True, axis=1)"
   ],
   "metadata": {
    "collapsed": false,
    "ExecuteTime": {
     "end_time": "2023-07-23T11:39:41.810610100Z",
     "start_time": "2023-07-23T11:39:41.747754400Z"
    }
   }
  },
  {
   "cell_type": "code",
   "execution_count": 230,
   "outputs": [
    {
     "data": {
      "text/plain": "array(['alfa-romeo', 'aston-martin', 'audi', 'bentley', 'bmw', 'cadillac',\n       'chevrolet', 'chrysler', 'citroen', 'dacia', 'daewoo', 'daihatsu',\n       'dodge', 'ferrari', 'fiat', 'ford', 'honda', 'hyundai', 'infiniti',\n       'isuzu', 'jaguar', 'jeep', 'kia', 'lada', 'lamborghini', 'lancia',\n       'land-rover', 'maserati', 'mazda', 'mercedes-benz', 'mini',\n       'mitsubishi', 'nissan', 'opel', 'peugeot', 'porsche', 'proton',\n       'renault', 'rover', 'saab', 'seat', 'skoda', 'smart', 'ssangyong',\n       'toyota', 'volkswagen', 'volvo'], dtype=object)"
     },
     "execution_count": 230,
     "metadata": {},
     "output_type": "execute_result"
    }
   ],
   "source": [
    "pd.unique(df['brand'])"
   ],
   "metadata": {
    "collapsed": false,
    "ExecuteTime": {
     "end_time": "2023-07-23T11:39:41.845665400Z",
     "start_time": "2023-07-23T11:39:41.781547600Z"
    }
   }
  },
  {
   "cell_type": "code",
   "execution_count": 231,
   "outputs": [],
   "source": [
    "df['brand'].replace('-', '', inplace=True, regex=True)\n",
    "df['model'].replace(' ', '', inplace=True, regex=True)\n",
    "df['model'].replace('-', '', inplace=True, regex=True)\n",
    "df['brand'] = df['brand'].apply(str.upper)\n",
    "df['model'] = df['model'].apply(str.upper)"
   ],
   "metadata": {
    "collapsed": false,
    "ExecuteTime": {
     "end_time": "2023-07-23T11:39:42.611564Z",
     "start_time": "2023-07-23T11:39:41.811612500Z"
    }
   }
  },
  {
   "cell_type": "code",
   "execution_count": 232,
   "outputs": [
    {
     "data": {
      "text/plain": "        brand model  color registration_date  year price_in_euro power_kw  \\\n251074  VOLVO  XC40  white            Apr-23  2023         57990      192   \n251075  VOLVO  XC90  white            Mar-23  2023         89690      173   \n251076  VOLVO   V60  white            May-23  2023         61521      145   \n251077  VOLVO  XC40  white            May-23  2023         57890      132   \n251078  VOLVO  XC40   gold            Mar-23  2023         52900      160   \n\n       power_ps transmission_type fuel_type fuel_consumption_l_100km  \\\n251074      261         Automatic    Hybrid                      NaN   \n251075      235         Automatic    Diesel             7,6 l/100 km   \n251076      197         Automatic    Diesel             4,7 l/100 km   \n251077      179         Automatic    Hybrid                      NaN   \n251078      218         Automatic  Electric                      NaN   \n\n       fuel_consumption_g_km  mileage_in_km  \\\n251074      43 km Reichweite         1229.0   \n251075              202 g/km         4900.0   \n251076              125 g/km         1531.0   \n251077      45 km Reichweite         1500.0   \n251078     438 km Reichweite           50.0   \n\n                                        offer_description  \n251074  Plus Bright T5 Recharge Intellisafe*Surround+P...  \n251075  B5 AWD Diesel Ultimate Dark 7-Sitzer Massage F...  \n251076            B4 D Plus Dark 145 kW, 5-türig (Diesel)  \n251077        T5 Recharge Plus Dark *Standh*360°*beh.Lenk  \n251078               Ultimate Recharge Twin Motor AHK GJR  ",
      "text/html": "<div>\n<style scoped>\n    .dataframe tbody tr th:only-of-type {\n        vertical-align: middle;\n    }\n\n    .dataframe tbody tr th {\n        vertical-align: top;\n    }\n\n    .dataframe thead th {\n        text-align: right;\n    }\n</style>\n<table border=\"1\" class=\"dataframe\">\n  <thead>\n    <tr style=\"text-align: right;\">\n      <th></th>\n      <th>brand</th>\n      <th>model</th>\n      <th>color</th>\n      <th>registration_date</th>\n      <th>year</th>\n      <th>price_in_euro</th>\n      <th>power_kw</th>\n      <th>power_ps</th>\n      <th>transmission_type</th>\n      <th>fuel_type</th>\n      <th>fuel_consumption_l_100km</th>\n      <th>fuel_consumption_g_km</th>\n      <th>mileage_in_km</th>\n      <th>offer_description</th>\n    </tr>\n  </thead>\n  <tbody>\n    <tr>\n      <th>251074</th>\n      <td>VOLVO</td>\n      <td>XC40</td>\n      <td>white</td>\n      <td>Apr-23</td>\n      <td>2023</td>\n      <td>57990</td>\n      <td>192</td>\n      <td>261</td>\n      <td>Automatic</td>\n      <td>Hybrid</td>\n      <td>NaN</td>\n      <td>43 km Reichweite</td>\n      <td>1229.0</td>\n      <td>Plus Bright T5 Recharge Intellisafe*Surround+P...</td>\n    </tr>\n    <tr>\n      <th>251075</th>\n      <td>VOLVO</td>\n      <td>XC90</td>\n      <td>white</td>\n      <td>Mar-23</td>\n      <td>2023</td>\n      <td>89690</td>\n      <td>173</td>\n      <td>235</td>\n      <td>Automatic</td>\n      <td>Diesel</td>\n      <td>7,6 l/100 km</td>\n      <td>202 g/km</td>\n      <td>4900.0</td>\n      <td>B5 AWD Diesel Ultimate Dark 7-Sitzer Massage F...</td>\n    </tr>\n    <tr>\n      <th>251076</th>\n      <td>VOLVO</td>\n      <td>V60</td>\n      <td>white</td>\n      <td>May-23</td>\n      <td>2023</td>\n      <td>61521</td>\n      <td>145</td>\n      <td>197</td>\n      <td>Automatic</td>\n      <td>Diesel</td>\n      <td>4,7 l/100 km</td>\n      <td>125 g/km</td>\n      <td>1531.0</td>\n      <td>B4 D Plus Dark 145 kW, 5-türig (Diesel)</td>\n    </tr>\n    <tr>\n      <th>251077</th>\n      <td>VOLVO</td>\n      <td>XC40</td>\n      <td>white</td>\n      <td>May-23</td>\n      <td>2023</td>\n      <td>57890</td>\n      <td>132</td>\n      <td>179</td>\n      <td>Automatic</td>\n      <td>Hybrid</td>\n      <td>NaN</td>\n      <td>45 km Reichweite</td>\n      <td>1500.0</td>\n      <td>T5 Recharge Plus Dark *Standh*360°*beh.Lenk</td>\n    </tr>\n    <tr>\n      <th>251078</th>\n      <td>VOLVO</td>\n      <td>XC40</td>\n      <td>gold</td>\n      <td>Mar-23</td>\n      <td>2023</td>\n      <td>52900</td>\n      <td>160</td>\n      <td>218</td>\n      <td>Automatic</td>\n      <td>Electric</td>\n      <td>NaN</td>\n      <td>438 km Reichweite</td>\n      <td>50.0</td>\n      <td>Ultimate Recharge Twin Motor AHK GJR</td>\n    </tr>\n  </tbody>\n</table>\n</div>"
     },
     "execution_count": 232,
     "metadata": {},
     "output_type": "execute_result"
    }
   ],
   "source": [
    "for index, row in df.iterrows():\n",
    "    brand = row['brand']\n",
    "    model = row['model']\n",
    "    new_model = model.replace(brand, '')\n",
    "    df.at[index, 'model'] = new_model\n",
    "df.tail()"
   ],
   "metadata": {
    "collapsed": false,
    "ExecuteTime": {
     "end_time": "2023-07-23T11:39:55.977484900Z",
     "start_time": "2023-07-23T11:39:42.611564Z"
    }
   }
  },
  {
   "cell_type": "code",
   "execution_count": 233,
   "outputs": [
    {
     "data": {
      "text/plain": "       brand   model  color  year price_in_euro power_ps transmission_type  \\\n0  ALFAROMEO     GTV    red  1995          1300      201            Manual   \n1  ALFAROMEO     164  black  1995         24900      260            Manual   \n2  ALFAROMEO  SPIDER  black  1995          5900      150           Unknown   \n3  ALFAROMEO  SPIDER  black  1995          4900      150            Manual   \n4  ALFAROMEO     164    red  1996         17950      179            Manual   \n5  ALFAROMEO  SPIDER    red  1996          7900      150            Manual   \n6  ALFAROMEO     145    red  1996          3500      150            Manual   \n7  ALFAROMEO     164  black  1996          5500      179            Manual   \n8  ALFAROMEO  SPIDER  black  1996          8990      192            Manual   \n9  ALFAROMEO  SPIDER  black  1996          6976      150            Manual   \n\n  fuel_type fuel_consumption_l_100km fuel_consumption_g_km  mileage_in_km  \n0    Petrol            10,9 l/100 km              260 g/km       160500.0  \n1    Petrol                      NaN                #NAME?       190000.0  \n2    Petrol                      NaN                #NAME?       129000.0  \n3    Petrol             9,5 l/100 km              225 g/km       189500.0  \n4    Petrol             7,2 l/100 km                #NAME?        96127.0  \n5    Petrol             9,5 l/100 km              225 g/km        47307.0  \n6    Petrol             8,8 l/100 km              210 g/km       230000.0  \n7    Petrol            13,4 l/100 km              320 g/km       168000.0  \n8    Petrol              11 l/100 km              265 g/km       168600.0  \n9    Petrol             9,2 l/100 km              220 g/km        99000.0  ",
      "text/html": "<div>\n<style scoped>\n    .dataframe tbody tr th:only-of-type {\n        vertical-align: middle;\n    }\n\n    .dataframe tbody tr th {\n        vertical-align: top;\n    }\n\n    .dataframe thead th {\n        text-align: right;\n    }\n</style>\n<table border=\"1\" class=\"dataframe\">\n  <thead>\n    <tr style=\"text-align: right;\">\n      <th></th>\n      <th>brand</th>\n      <th>model</th>\n      <th>color</th>\n      <th>year</th>\n      <th>price_in_euro</th>\n      <th>power_ps</th>\n      <th>transmission_type</th>\n      <th>fuel_type</th>\n      <th>fuel_consumption_l_100km</th>\n      <th>fuel_consumption_g_km</th>\n      <th>mileage_in_km</th>\n    </tr>\n  </thead>\n  <tbody>\n    <tr>\n      <th>0</th>\n      <td>ALFAROMEO</td>\n      <td>GTV</td>\n      <td>red</td>\n      <td>1995</td>\n      <td>1300</td>\n      <td>201</td>\n      <td>Manual</td>\n      <td>Petrol</td>\n      <td>10,9 l/100 km</td>\n      <td>260 g/km</td>\n      <td>160500.0</td>\n    </tr>\n    <tr>\n      <th>1</th>\n      <td>ALFAROMEO</td>\n      <td>164</td>\n      <td>black</td>\n      <td>1995</td>\n      <td>24900</td>\n      <td>260</td>\n      <td>Manual</td>\n      <td>Petrol</td>\n      <td>NaN</td>\n      <td>#NAME?</td>\n      <td>190000.0</td>\n    </tr>\n    <tr>\n      <th>2</th>\n      <td>ALFAROMEO</td>\n      <td>SPIDER</td>\n      <td>black</td>\n      <td>1995</td>\n      <td>5900</td>\n      <td>150</td>\n      <td>Unknown</td>\n      <td>Petrol</td>\n      <td>NaN</td>\n      <td>#NAME?</td>\n      <td>129000.0</td>\n    </tr>\n    <tr>\n      <th>3</th>\n      <td>ALFAROMEO</td>\n      <td>SPIDER</td>\n      <td>black</td>\n      <td>1995</td>\n      <td>4900</td>\n      <td>150</td>\n      <td>Manual</td>\n      <td>Petrol</td>\n      <td>9,5 l/100 km</td>\n      <td>225 g/km</td>\n      <td>189500.0</td>\n    </tr>\n    <tr>\n      <th>4</th>\n      <td>ALFAROMEO</td>\n      <td>164</td>\n      <td>red</td>\n      <td>1996</td>\n      <td>17950</td>\n      <td>179</td>\n      <td>Manual</td>\n      <td>Petrol</td>\n      <td>7,2 l/100 km</td>\n      <td>#NAME?</td>\n      <td>96127.0</td>\n    </tr>\n    <tr>\n      <th>5</th>\n      <td>ALFAROMEO</td>\n      <td>SPIDER</td>\n      <td>red</td>\n      <td>1996</td>\n      <td>7900</td>\n      <td>150</td>\n      <td>Manual</td>\n      <td>Petrol</td>\n      <td>9,5 l/100 km</td>\n      <td>225 g/km</td>\n      <td>47307.0</td>\n    </tr>\n    <tr>\n      <th>6</th>\n      <td>ALFAROMEO</td>\n      <td>145</td>\n      <td>red</td>\n      <td>1996</td>\n      <td>3500</td>\n      <td>150</td>\n      <td>Manual</td>\n      <td>Petrol</td>\n      <td>8,8 l/100 km</td>\n      <td>210 g/km</td>\n      <td>230000.0</td>\n    </tr>\n    <tr>\n      <th>7</th>\n      <td>ALFAROMEO</td>\n      <td>164</td>\n      <td>black</td>\n      <td>1996</td>\n      <td>5500</td>\n      <td>179</td>\n      <td>Manual</td>\n      <td>Petrol</td>\n      <td>13,4 l/100 km</td>\n      <td>320 g/km</td>\n      <td>168000.0</td>\n    </tr>\n    <tr>\n      <th>8</th>\n      <td>ALFAROMEO</td>\n      <td>SPIDER</td>\n      <td>black</td>\n      <td>1996</td>\n      <td>8990</td>\n      <td>192</td>\n      <td>Manual</td>\n      <td>Petrol</td>\n      <td>11 l/100 km</td>\n      <td>265 g/km</td>\n      <td>168600.0</td>\n    </tr>\n    <tr>\n      <th>9</th>\n      <td>ALFAROMEO</td>\n      <td>SPIDER</td>\n      <td>black</td>\n      <td>1996</td>\n      <td>6976</td>\n      <td>150</td>\n      <td>Manual</td>\n      <td>Petrol</td>\n      <td>9,2 l/100 km</td>\n      <td>220 g/km</td>\n      <td>99000.0</td>\n    </tr>\n  </tbody>\n</table>\n</div>"
     },
     "execution_count": 233,
     "metadata": {},
     "output_type": "execute_result"
    }
   ],
   "source": [
    "df['model'].replace('', np.nan, inplace=True, regex=True)\n",
    "df.drop('registration_date', inplace=True, axis=1)\n",
    "df.drop('power_kw', inplace=True, axis=1)\n",
    "df.drop('offer_description', inplace=True, axis=1)\n",
    "df.head(10)"
   ],
   "metadata": {
    "collapsed": false,
    "ExecuteTime": {
     "end_time": "2023-07-23T11:39:56.094184600Z",
     "start_time": "2023-07-23T11:39:55.980485700Z"
    }
   }
  },
  {
   "cell_type": "code",
   "execution_count": 234,
   "outputs": [
    {
     "data": {
      "text/plain": "       brand   model  color  year price_in_euro power_ps transmission_type  \\\n0  ALFAROMEO     GTV    red  1995          1300      201            Manual   \n1  ALFAROMEO     164  black  1995         24900      260            Manual   \n2  ALFAROMEO  SPIDER  black  1995          5900      150           Unknown   \n3  ALFAROMEO  SPIDER  black  1995          4900      150            Manual   \n4  ALFAROMEO     164    red  1996         17950      179            Manual   \n5  ALFAROMEO  SPIDER    red  1996          7900      150            Manual   \n6  ALFAROMEO     145    red  1996          3500      150            Manual   \n7  ALFAROMEO     164  black  1996          5500      179            Manual   \n8  ALFAROMEO  SPIDER  black  1996          8990      192            Manual   \n9  ALFAROMEO  SPIDER  black  1996          6976      150            Manual   \n\n  fuel_type fuel_consumption_l_100km fuel_consumption_g_km  mileage_in_km  \n0    Petrol            10,9 l/100 km                   260       160500.0  \n1    Petrol                      NaN                #NAME?       190000.0  \n2    Petrol                      NaN                #NAME?       129000.0  \n3    Petrol             9,5 l/100 km                   225       189500.0  \n4    Petrol             7,2 l/100 km                #NAME?        96127.0  \n5    Petrol             9,5 l/100 km                   225        47307.0  \n6    Petrol             8,8 l/100 km                   210       230000.0  \n7    Petrol            13,4 l/100 km                   320       168000.0  \n8    Petrol              11 l/100 km                   265       168600.0  \n9    Petrol             9,2 l/100 km                   220        99000.0  ",
      "text/html": "<div>\n<style scoped>\n    .dataframe tbody tr th:only-of-type {\n        vertical-align: middle;\n    }\n\n    .dataframe tbody tr th {\n        vertical-align: top;\n    }\n\n    .dataframe thead th {\n        text-align: right;\n    }\n</style>\n<table border=\"1\" class=\"dataframe\">\n  <thead>\n    <tr style=\"text-align: right;\">\n      <th></th>\n      <th>brand</th>\n      <th>model</th>\n      <th>color</th>\n      <th>year</th>\n      <th>price_in_euro</th>\n      <th>power_ps</th>\n      <th>transmission_type</th>\n      <th>fuel_type</th>\n      <th>fuel_consumption_l_100km</th>\n      <th>fuel_consumption_g_km</th>\n      <th>mileage_in_km</th>\n    </tr>\n  </thead>\n  <tbody>\n    <tr>\n      <th>0</th>\n      <td>ALFAROMEO</td>\n      <td>GTV</td>\n      <td>red</td>\n      <td>1995</td>\n      <td>1300</td>\n      <td>201</td>\n      <td>Manual</td>\n      <td>Petrol</td>\n      <td>10,9 l/100 km</td>\n      <td>260</td>\n      <td>160500.0</td>\n    </tr>\n    <tr>\n      <th>1</th>\n      <td>ALFAROMEO</td>\n      <td>164</td>\n      <td>black</td>\n      <td>1995</td>\n      <td>24900</td>\n      <td>260</td>\n      <td>Manual</td>\n      <td>Petrol</td>\n      <td>NaN</td>\n      <td>#NAME?</td>\n      <td>190000.0</td>\n    </tr>\n    <tr>\n      <th>2</th>\n      <td>ALFAROMEO</td>\n      <td>SPIDER</td>\n      <td>black</td>\n      <td>1995</td>\n      <td>5900</td>\n      <td>150</td>\n      <td>Unknown</td>\n      <td>Petrol</td>\n      <td>NaN</td>\n      <td>#NAME?</td>\n      <td>129000.0</td>\n    </tr>\n    <tr>\n      <th>3</th>\n      <td>ALFAROMEO</td>\n      <td>SPIDER</td>\n      <td>black</td>\n      <td>1995</td>\n      <td>4900</td>\n      <td>150</td>\n      <td>Manual</td>\n      <td>Petrol</td>\n      <td>9,5 l/100 km</td>\n      <td>225</td>\n      <td>189500.0</td>\n    </tr>\n    <tr>\n      <th>4</th>\n      <td>ALFAROMEO</td>\n      <td>164</td>\n      <td>red</td>\n      <td>1996</td>\n      <td>17950</td>\n      <td>179</td>\n      <td>Manual</td>\n      <td>Petrol</td>\n      <td>7,2 l/100 km</td>\n      <td>#NAME?</td>\n      <td>96127.0</td>\n    </tr>\n    <tr>\n      <th>5</th>\n      <td>ALFAROMEO</td>\n      <td>SPIDER</td>\n      <td>red</td>\n      <td>1996</td>\n      <td>7900</td>\n      <td>150</td>\n      <td>Manual</td>\n      <td>Petrol</td>\n      <td>9,5 l/100 km</td>\n      <td>225</td>\n      <td>47307.0</td>\n    </tr>\n    <tr>\n      <th>6</th>\n      <td>ALFAROMEO</td>\n      <td>145</td>\n      <td>red</td>\n      <td>1996</td>\n      <td>3500</td>\n      <td>150</td>\n      <td>Manual</td>\n      <td>Petrol</td>\n      <td>8,8 l/100 km</td>\n      <td>210</td>\n      <td>230000.0</td>\n    </tr>\n    <tr>\n      <th>7</th>\n      <td>ALFAROMEO</td>\n      <td>164</td>\n      <td>black</td>\n      <td>1996</td>\n      <td>5500</td>\n      <td>179</td>\n      <td>Manual</td>\n      <td>Petrol</td>\n      <td>13,4 l/100 km</td>\n      <td>320</td>\n      <td>168000.0</td>\n    </tr>\n    <tr>\n      <th>8</th>\n      <td>ALFAROMEO</td>\n      <td>SPIDER</td>\n      <td>black</td>\n      <td>1996</td>\n      <td>8990</td>\n      <td>192</td>\n      <td>Manual</td>\n      <td>Petrol</td>\n      <td>11 l/100 km</td>\n      <td>265</td>\n      <td>168600.0</td>\n    </tr>\n    <tr>\n      <th>9</th>\n      <td>ALFAROMEO</td>\n      <td>SPIDER</td>\n      <td>black</td>\n      <td>1996</td>\n      <td>6976</td>\n      <td>150</td>\n      <td>Manual</td>\n      <td>Petrol</td>\n      <td>9,2 l/100 km</td>\n      <td>220</td>\n      <td>99000.0</td>\n    </tr>\n  </tbody>\n</table>\n</div>"
     },
     "execution_count": 234,
     "metadata": {},
     "output_type": "execute_result"
    }
   ],
   "source": [
    "df['fuel_consumption_g_km'].replace(' g/km', '', inplace=True, regex=True)\n",
    "df['fuel_consumption_g_km'].replace(' (g/km)', '', inplace=True, regex=True)\n",
    "df['fuel_consumption_g_km'].replace('-', np.nan, inplace=True, regex=True)\n",
    "df.head(10)"
   ],
   "metadata": {
    "collapsed": false,
    "ExecuteTime": {
     "end_time": "2023-07-23T11:39:56.798291100Z",
     "start_time": "2023-07-23T11:39:56.113210200Z"
    }
   }
  },
  {
   "cell_type": "code",
   "execution_count": 235,
   "outputs": [
    {
     "data": {
      "text/plain": "        brand   model   color  year price_in_euro power_ps transmission_type  \\\n0   ALFAROMEO     GTV     red  1995          1300      201            Manual   \n3   ALFAROMEO  SPIDER   black  1995          4900      150            Manual   \n4   ALFAROMEO     164     red  1996         17950      179            Manual   \n5   ALFAROMEO  SPIDER     red  1996          7900      150            Manual   \n6   ALFAROMEO     145     red  1996          3500      150            Manual   \n7   ALFAROMEO     164   black  1996          5500      179            Manual   \n8   ALFAROMEO  SPIDER   black  1996          8990      192            Manual   \n9   ALFAROMEO  SPIDER   black  1996          6976      150            Manual   \n10  ALFAROMEO  SPIDER  silver  1996          5499      192            Manual   \n11  ALFAROMEO  SPIDER  silver  1996          8499      150            Manual   \n\n   fuel_type fuel_consumption_l_100km fuel_consumption_g_km  mileage_in_km  \n0     Petrol            10,9 l/100 km                   260       160500.0  \n3     Petrol             9,5 l/100 km                   225       189500.0  \n4     Petrol             7,2 l/100 km                #NAME?        96127.0  \n5     Petrol             9,5 l/100 km                   225        47307.0  \n6     Petrol             8,8 l/100 km                   210       230000.0  \n7     Petrol            13,4 l/100 km                   320       168000.0  \n8     Petrol              11 l/100 km                   265       168600.0  \n9     Petrol             9,2 l/100 km                   220        99000.0  \n10    Petrol            11,1 l/100 km                   265       157000.0  \n11    Petrol             9,5 l/100 km                   225        15550.0  ",
      "text/html": "<div>\n<style scoped>\n    .dataframe tbody tr th:only-of-type {\n        vertical-align: middle;\n    }\n\n    .dataframe tbody tr th {\n        vertical-align: top;\n    }\n\n    .dataframe thead th {\n        text-align: right;\n    }\n</style>\n<table border=\"1\" class=\"dataframe\">\n  <thead>\n    <tr style=\"text-align: right;\">\n      <th></th>\n      <th>brand</th>\n      <th>model</th>\n      <th>color</th>\n      <th>year</th>\n      <th>price_in_euro</th>\n      <th>power_ps</th>\n      <th>transmission_type</th>\n      <th>fuel_type</th>\n      <th>fuel_consumption_l_100km</th>\n      <th>fuel_consumption_g_km</th>\n      <th>mileage_in_km</th>\n    </tr>\n  </thead>\n  <tbody>\n    <tr>\n      <th>0</th>\n      <td>ALFAROMEO</td>\n      <td>GTV</td>\n      <td>red</td>\n      <td>1995</td>\n      <td>1300</td>\n      <td>201</td>\n      <td>Manual</td>\n      <td>Petrol</td>\n      <td>10,9 l/100 km</td>\n      <td>260</td>\n      <td>160500.0</td>\n    </tr>\n    <tr>\n      <th>3</th>\n      <td>ALFAROMEO</td>\n      <td>SPIDER</td>\n      <td>black</td>\n      <td>1995</td>\n      <td>4900</td>\n      <td>150</td>\n      <td>Manual</td>\n      <td>Petrol</td>\n      <td>9,5 l/100 km</td>\n      <td>225</td>\n      <td>189500.0</td>\n    </tr>\n    <tr>\n      <th>4</th>\n      <td>ALFAROMEO</td>\n      <td>164</td>\n      <td>red</td>\n      <td>1996</td>\n      <td>17950</td>\n      <td>179</td>\n      <td>Manual</td>\n      <td>Petrol</td>\n      <td>7,2 l/100 km</td>\n      <td>#NAME?</td>\n      <td>96127.0</td>\n    </tr>\n    <tr>\n      <th>5</th>\n      <td>ALFAROMEO</td>\n      <td>SPIDER</td>\n      <td>red</td>\n      <td>1996</td>\n      <td>7900</td>\n      <td>150</td>\n      <td>Manual</td>\n      <td>Petrol</td>\n      <td>9,5 l/100 km</td>\n      <td>225</td>\n      <td>47307.0</td>\n    </tr>\n    <tr>\n      <th>6</th>\n      <td>ALFAROMEO</td>\n      <td>145</td>\n      <td>red</td>\n      <td>1996</td>\n      <td>3500</td>\n      <td>150</td>\n      <td>Manual</td>\n      <td>Petrol</td>\n      <td>8,8 l/100 km</td>\n      <td>210</td>\n      <td>230000.0</td>\n    </tr>\n    <tr>\n      <th>7</th>\n      <td>ALFAROMEO</td>\n      <td>164</td>\n      <td>black</td>\n      <td>1996</td>\n      <td>5500</td>\n      <td>179</td>\n      <td>Manual</td>\n      <td>Petrol</td>\n      <td>13,4 l/100 km</td>\n      <td>320</td>\n      <td>168000.0</td>\n    </tr>\n    <tr>\n      <th>8</th>\n      <td>ALFAROMEO</td>\n      <td>SPIDER</td>\n      <td>black</td>\n      <td>1996</td>\n      <td>8990</td>\n      <td>192</td>\n      <td>Manual</td>\n      <td>Petrol</td>\n      <td>11 l/100 km</td>\n      <td>265</td>\n      <td>168600.0</td>\n    </tr>\n    <tr>\n      <th>9</th>\n      <td>ALFAROMEO</td>\n      <td>SPIDER</td>\n      <td>black</td>\n      <td>1996</td>\n      <td>6976</td>\n      <td>150</td>\n      <td>Manual</td>\n      <td>Petrol</td>\n      <td>9,2 l/100 km</td>\n      <td>220</td>\n      <td>99000.0</td>\n    </tr>\n    <tr>\n      <th>10</th>\n      <td>ALFAROMEO</td>\n      <td>SPIDER</td>\n      <td>silver</td>\n      <td>1996</td>\n      <td>5499</td>\n      <td>192</td>\n      <td>Manual</td>\n      <td>Petrol</td>\n      <td>11,1 l/100 km</td>\n      <td>265</td>\n      <td>157000.0</td>\n    </tr>\n    <tr>\n      <th>11</th>\n      <td>ALFAROMEO</td>\n      <td>SPIDER</td>\n      <td>silver</td>\n      <td>1996</td>\n      <td>8499</td>\n      <td>150</td>\n      <td>Manual</td>\n      <td>Petrol</td>\n      <td>9,5 l/100 km</td>\n      <td>225</td>\n      <td>15550.0</td>\n    </tr>\n  </tbody>\n</table>\n</div>"
     },
     "execution_count": 235,
     "metadata": {},
     "output_type": "execute_result"
    }
   ],
   "source": [
    "df['transmission_type'].replace('Unknown', np.nan, inplace=True, regex=True)\n",
    "df.dropna(inplace=True)\n",
    "df.head(10)"
   ],
   "metadata": {
    "collapsed": false,
    "ExecuteTime": {
     "end_time": "2023-07-23T11:39:57.258080400Z",
     "start_time": "2023-07-23T11:39:56.796264100Z"
    }
   }
  },
  {
   "cell_type": "code",
   "execution_count": 236,
   "outputs": [],
   "source": [
    "df['year'] = pd.to_datetime(df['year'], errors='coerce')\n",
    "df['year'] = df['year'].dt.year\n",
    "df['fuel_type'].replace('Unknown', np.nan, inplace=True, regex=True)"
   ],
   "metadata": {
    "collapsed": false,
    "ExecuteTime": {
     "end_time": "2023-07-23T11:39:57.471453300Z",
     "start_time": "2023-07-23T11:39:57.267491400Z"
    }
   }
  },
  {
   "cell_type": "code",
   "execution_count": 237,
   "outputs": [],
   "source": [
    "df.dropna(inplace=True)"
   ],
   "metadata": {
    "collapsed": false,
    "ExecuteTime": {
     "end_time": "2023-07-23T11:39:57.693142800Z",
     "start_time": "2023-07-23T11:39:57.469455300Z"
    }
   }
  },
  {
   "cell_type": "code",
   "execution_count": 238,
   "outputs": [
    {
     "data": {
      "text/plain": "        brand   model   color    year price_in_euro power_ps  \\\n0   ALFAROMEO     GTV     red  1995.0          1300      201   \n3   ALFAROMEO  SPIDER   black  1995.0          4900      150   \n4   ALFAROMEO     164     red  1996.0         17950      179   \n5   ALFAROMEO  SPIDER     red  1996.0          7900      150   \n6   ALFAROMEO     145     red  1996.0          3500      150   \n7   ALFAROMEO     164   black  1996.0          5500      179   \n8   ALFAROMEO  SPIDER   black  1996.0          8990      192   \n9   ALFAROMEO  SPIDER   black  1996.0          6976      150   \n10  ALFAROMEO  SPIDER  silver  1996.0          5499      192   \n11  ALFAROMEO  SPIDER  silver  1996.0          8499      150   \n\n   transmission_type fuel_type fuel_consumption_l_100km fuel_consumption_g_km  \\\n0             Manual    Petrol            10,9 l/100 km                   260   \n3             Manual    Petrol             9,5 l/100 km                   225   \n4             Manual    Petrol             7,2 l/100 km                #NAME?   \n5             Manual    Petrol             9,5 l/100 km                   225   \n6             Manual    Petrol             8,8 l/100 km                   210   \n7             Manual    Petrol            13,4 l/100 km                   320   \n8             Manual    Petrol              11 l/100 km                   265   \n9             Manual    Petrol             9,2 l/100 km                   220   \n10            Manual    Petrol            11,1 l/100 km                   265   \n11            Manual    Petrol             9,5 l/100 km                   225   \n\n    mileage_in_km electric_range  \n0        160500.0              0  \n3        189500.0              0  \n4         96127.0              0  \n5         47307.0              0  \n6        230000.0              0  \n7        168000.0              0  \n8        168600.0              0  \n9         99000.0              0  \n10       157000.0              0  \n11        15550.0              0  ",
      "text/html": "<div>\n<style scoped>\n    .dataframe tbody tr th:only-of-type {\n        vertical-align: middle;\n    }\n\n    .dataframe tbody tr th {\n        vertical-align: top;\n    }\n\n    .dataframe thead th {\n        text-align: right;\n    }\n</style>\n<table border=\"1\" class=\"dataframe\">\n  <thead>\n    <tr style=\"text-align: right;\">\n      <th></th>\n      <th>brand</th>\n      <th>model</th>\n      <th>color</th>\n      <th>year</th>\n      <th>price_in_euro</th>\n      <th>power_ps</th>\n      <th>transmission_type</th>\n      <th>fuel_type</th>\n      <th>fuel_consumption_l_100km</th>\n      <th>fuel_consumption_g_km</th>\n      <th>mileage_in_km</th>\n      <th>electric_range</th>\n    </tr>\n  </thead>\n  <tbody>\n    <tr>\n      <th>0</th>\n      <td>ALFAROMEO</td>\n      <td>GTV</td>\n      <td>red</td>\n      <td>1995.0</td>\n      <td>1300</td>\n      <td>201</td>\n      <td>Manual</td>\n      <td>Petrol</td>\n      <td>10,9 l/100 km</td>\n      <td>260</td>\n      <td>160500.0</td>\n      <td>0</td>\n    </tr>\n    <tr>\n      <th>3</th>\n      <td>ALFAROMEO</td>\n      <td>SPIDER</td>\n      <td>black</td>\n      <td>1995.0</td>\n      <td>4900</td>\n      <td>150</td>\n      <td>Manual</td>\n      <td>Petrol</td>\n      <td>9,5 l/100 km</td>\n      <td>225</td>\n      <td>189500.0</td>\n      <td>0</td>\n    </tr>\n    <tr>\n      <th>4</th>\n      <td>ALFAROMEO</td>\n      <td>164</td>\n      <td>red</td>\n      <td>1996.0</td>\n      <td>17950</td>\n      <td>179</td>\n      <td>Manual</td>\n      <td>Petrol</td>\n      <td>7,2 l/100 km</td>\n      <td>#NAME?</td>\n      <td>96127.0</td>\n      <td>0</td>\n    </tr>\n    <tr>\n      <th>5</th>\n      <td>ALFAROMEO</td>\n      <td>SPIDER</td>\n      <td>red</td>\n      <td>1996.0</td>\n      <td>7900</td>\n      <td>150</td>\n      <td>Manual</td>\n      <td>Petrol</td>\n      <td>9,5 l/100 km</td>\n      <td>225</td>\n      <td>47307.0</td>\n      <td>0</td>\n    </tr>\n    <tr>\n      <th>6</th>\n      <td>ALFAROMEO</td>\n      <td>145</td>\n      <td>red</td>\n      <td>1996.0</td>\n      <td>3500</td>\n      <td>150</td>\n      <td>Manual</td>\n      <td>Petrol</td>\n      <td>8,8 l/100 km</td>\n      <td>210</td>\n      <td>230000.0</td>\n      <td>0</td>\n    </tr>\n    <tr>\n      <th>7</th>\n      <td>ALFAROMEO</td>\n      <td>164</td>\n      <td>black</td>\n      <td>1996.0</td>\n      <td>5500</td>\n      <td>179</td>\n      <td>Manual</td>\n      <td>Petrol</td>\n      <td>13,4 l/100 km</td>\n      <td>320</td>\n      <td>168000.0</td>\n      <td>0</td>\n    </tr>\n    <tr>\n      <th>8</th>\n      <td>ALFAROMEO</td>\n      <td>SPIDER</td>\n      <td>black</td>\n      <td>1996.0</td>\n      <td>8990</td>\n      <td>192</td>\n      <td>Manual</td>\n      <td>Petrol</td>\n      <td>11 l/100 km</td>\n      <td>265</td>\n      <td>168600.0</td>\n      <td>0</td>\n    </tr>\n    <tr>\n      <th>9</th>\n      <td>ALFAROMEO</td>\n      <td>SPIDER</td>\n      <td>black</td>\n      <td>1996.0</td>\n      <td>6976</td>\n      <td>150</td>\n      <td>Manual</td>\n      <td>Petrol</td>\n      <td>9,2 l/100 km</td>\n      <td>220</td>\n      <td>99000.0</td>\n      <td>0</td>\n    </tr>\n    <tr>\n      <th>10</th>\n      <td>ALFAROMEO</td>\n      <td>SPIDER</td>\n      <td>silver</td>\n      <td>1996.0</td>\n      <td>5499</td>\n      <td>192</td>\n      <td>Manual</td>\n      <td>Petrol</td>\n      <td>11,1 l/100 km</td>\n      <td>265</td>\n      <td>157000.0</td>\n      <td>0</td>\n    </tr>\n    <tr>\n      <th>11</th>\n      <td>ALFAROMEO</td>\n      <td>SPIDER</td>\n      <td>silver</td>\n      <td>1996.0</td>\n      <td>8499</td>\n      <td>150</td>\n      <td>Manual</td>\n      <td>Petrol</td>\n      <td>9,5 l/100 km</td>\n      <td>225</td>\n      <td>15550.0</td>\n      <td>0</td>\n    </tr>\n  </tbody>\n</table>\n</div>"
     },
     "execution_count": 238,
     "metadata": {},
     "output_type": "execute_result"
    }
   ],
   "source": [
    "aux = df.loc[df['fuel_type'] == 'Electric', 'fuel_consumption_g_km'].tolist()\n",
    "df.loc[df['fuel_type'] == 'Electric', 'electric_range'] = aux\n",
    "df.loc[df['fuel_type'] == 'Electric', 'fuel_consumption_g_km'] = 0\n",
    "df.loc[df['fuel_type'] == 'Electric', 'fuel_consumption_l_100km'] = 0\n",
    "df.loc[df['fuel_type'] != 'Electric', 'electric_range'] = 0\n",
    "df.head(10)"
   ],
   "metadata": {
    "collapsed": false,
    "ExecuteTime": {
     "end_time": "2023-07-23T11:39:57.770241900Z",
     "start_time": "2023-07-23T11:39:57.693142800Z"
    }
   }
  },
  {
   "cell_type": "code",
   "execution_count": 239,
   "outputs": [],
   "source": [
    "df['fuel_consumption_l_100km'].replace('-', '', inplace=True, regex=True)\n",
    "df['fuel_consumption_l_100km'].replace(' ', '', inplace=True, regex=True)\n",
    "df['fuel_consumption_l_100km'].replace('kg/100km', '', inplace=True, regex=True)\n",
    "df['fuel_consumption_l_100km'].replace('l/100km', '', inplace=True, regex=True)\n",
    "df['fuel_consumption_l_100km'].replace('\\(\\)', np.nan, inplace=True, regex=True)\n",
    "df['fuel_consumption_l_100km'].replace('kWh/100km', 'zzz', inplace=True, regex=True)\n",
    "df['fuel_consumption_l_100km'].replace('km\\(Ort\\)', 'zzz', inplace=True, regex=True)\n",
    "df['fuel_consumption_l_100km'] = df['fuel_consumption_l_100km'].astype(str)\n",
    "df = df[df['fuel_consumption_l_100km'].str.contains('zzz') == False]"
   ],
   "metadata": {
    "collapsed": false,
    "ExecuteTime": {
     "end_time": "2023-07-23T11:39:59.262735Z",
     "start_time": "2023-07-23T11:39:57.773242700Z"
    }
   }
  },
  {
   "cell_type": "code",
   "execution_count": 240,
   "outputs": [],
   "source": [
    "df = df.copy()\n",
    "df['fuel_consumption_g_km'].replace('#NAME?', np.nan, inplace=True, regex=True)\n",
    "df['fuel_consumption_g_km'].replace(' ', '', inplace=True, regex=True)\n",
    "df['fuel_consumption_g_km'].replace('kmReichweite', '', inplace=True, regex=True)\n",
    "df['fuel_consumption_g_km'].replace('9.999.999', np.nan, inplace=True, regex=True)"
   ],
   "metadata": {
    "collapsed": false,
    "ExecuteTime": {
     "end_time": "2023-07-23T11:39:59.936360100Z",
     "start_time": "2023-07-23T11:39:59.265742400Z"
    }
   }
  },
  {
   "cell_type": "code",
   "execution_count": 241,
   "outputs": [],
   "source": [
    "df['electric_range'].replace(' ', '', inplace=True, regex=True)\n",
    "df['electric_range'].replace('kmReichweite', '', inplace=True, regex=True)\n",
    "df['electric_range'] = df['electric_range'].astype(str)\n",
    "df = df.drop(df[(df['fuel_type'] == 'Electric') & (df['electric_range'] == '0')].index)"
   ],
   "metadata": {
    "collapsed": false,
    "ExecuteTime": {
     "end_time": "2023-07-23T11:40:00.390627800Z",
     "start_time": "2023-07-23T11:39:59.938389200Z"
    }
   }
  },
  {
   "cell_type": "code",
   "execution_count": 242,
   "outputs": [],
   "source": [
    "df.dropna(inplace=True)\n",
    "df['fuel_consumption_l_100km'].replace(',', '.', inplace=True, regex=True)\n",
    "df['fuel_consumption_g_km'].replace(',', '.', inplace=True, regex=True)\n",
    "df['price_in_euro'] = df['price_in_euro'].astype(float)\n",
    "df['power_ps'] = df['power_ps'].astype(float)\n",
    "df['fuel_consumption_l_100km'] = df['fuel_consumption_l_100km'].astype(float)\n",
    "df['fuel_consumption_g_km'] = df['fuel_consumption_g_km'].astype(float)\n",
    "df['mileage_in_km'] = df['mileage_in_km'].astype(float)\n",
    "df['electric_range'] = df['electric_range'].astype(float)"
   ],
   "metadata": {
    "collapsed": false,
    "ExecuteTime": {
     "end_time": "2023-07-23T11:40:01.192944Z",
     "start_time": "2023-07-23T11:40:00.393102500Z"
    }
   }
  },
  {
   "cell_type": "code",
   "execution_count": 243,
   "outputs": [],
   "source": [
    "df.to_csv('new.csv')"
   ],
   "metadata": {
    "collapsed": false,
    "ExecuteTime": {
     "end_time": "2023-07-23T11:40:02.627226300Z",
     "start_time": "2023-07-23T11:40:01.194017600Z"
    }
   }
  }
 ],
 "metadata": {
  "kernelspec": {
   "display_name": "Python 3",
   "language": "python",
   "name": "python3"
  },
  "language_info": {
   "codemirror_mode": {
    "name": "ipython",
    "version": 2
   },
   "file_extension": ".py",
   "mimetype": "text/x-python",
   "name": "python",
   "nbconvert_exporter": "python",
   "pygments_lexer": "ipython2",
   "version": "2.7.6"
  }
 },
 "nbformat": 4,
 "nbformat_minor": 0
}
