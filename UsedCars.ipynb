{
 "cells": [
  {
   "cell_type": "markdown",
   "source": [
    "# Car sales price forecast"
   ],
   "metadata": {
    "collapsed": false
   }
  },
  {
   "cell_type": "markdown",
   "source": [
    "Importing libraries"
   ],
   "metadata": {
    "collapsed": false
   }
  },
  {
   "cell_type": "code",
   "execution_count": 42,
   "metadata": {
    "collapsed": true,
    "ExecuteTime": {
     "end_time": "2023-08-01T17:11:25.390539200Z",
     "start_time": "2023-08-01T17:11:24.319737100Z"
    }
   },
   "outputs": [],
   "source": [
    "import pandas as pd\n",
    "import numpy as np\n",
    "import matplotlib.pyplot as plt\n",
    "import seaborn as sns\n",
    "from sklearn.model_selection import train_test_split\n",
    "from sklearn.metrics import mean_absolute_percentage_error\n",
    "from sklearn.tree import DecisionTreeRegressor"
   ]
  },
  {
   "cell_type": "markdown",
   "source": [
    "Reading the dataset"
   ],
   "metadata": {
    "collapsed": false
   }
  },
  {
   "cell_type": "code",
   "execution_count": 43,
   "outputs": [
    {
     "data": {
      "text/plain": "   Unnamed: 0       brand              model  color registration_date  year  \\\n0           0  alfa-romeo     Alfa Romeo GTV    red            Oct-95  1995   \n1           1  alfa-romeo     Alfa Romeo 164  black            Feb-95  1995   \n2           2  alfa-romeo  Alfa Romeo Spider  black            Feb-95  1995   \n3           3  alfa-romeo  Alfa Romeo Spider  black            Jul-95  1995   \n4           4  alfa-romeo     Alfa Romeo 164    red            Nov-96  1996   \n\n  price_in_euro power_kw power_ps transmission_type fuel_type  \\\n0          1300      148      201            Manual    Petrol   \n1         24900      191      260            Manual    Petrol   \n2          5900      110      150           Unknown    Petrol   \n3          4900      110      150            Manual    Petrol   \n4         17950      132      179            Manual    Petrol   \n\n  fuel_consumption_l_100km fuel_consumption_g_km  mileage_in_km  \\\n0            10,9 l/100 km              260 g/km       160500.0   \n1                      NaN                #NAME?       190000.0   \n2                      NaN                #NAME?       129000.0   \n3             9,5 l/100 km              225 g/km       189500.0   \n4             7,2 l/100 km                #NAME?        96127.0   \n\n                       offer_description  \n0                              2.0 V6 TB  \n1                    Q4 Allrad, 3.2L GTA  \n2                          ALFA ROME 916  \n3                   2.0 16V Twin Spark L  \n4  3.0i Super V6, absoluter Topzustand !  ",
      "text/html": "<div>\n<style scoped>\n    .dataframe tbody tr th:only-of-type {\n        vertical-align: middle;\n    }\n\n    .dataframe tbody tr th {\n        vertical-align: top;\n    }\n\n    .dataframe thead th {\n        text-align: right;\n    }\n</style>\n<table border=\"1\" class=\"dataframe\">\n  <thead>\n    <tr style=\"text-align: right;\">\n      <th></th>\n      <th>Unnamed: 0</th>\n      <th>brand</th>\n      <th>model</th>\n      <th>color</th>\n      <th>registration_date</th>\n      <th>year</th>\n      <th>price_in_euro</th>\n      <th>power_kw</th>\n      <th>power_ps</th>\n      <th>transmission_type</th>\n      <th>fuel_type</th>\n      <th>fuel_consumption_l_100km</th>\n      <th>fuel_consumption_g_km</th>\n      <th>mileage_in_km</th>\n      <th>offer_description</th>\n    </tr>\n  </thead>\n  <tbody>\n    <tr>\n      <th>0</th>\n      <td>0</td>\n      <td>alfa-romeo</td>\n      <td>Alfa Romeo GTV</td>\n      <td>red</td>\n      <td>Oct-95</td>\n      <td>1995</td>\n      <td>1300</td>\n      <td>148</td>\n      <td>201</td>\n      <td>Manual</td>\n      <td>Petrol</td>\n      <td>10,9 l/100 km</td>\n      <td>260 g/km</td>\n      <td>160500.0</td>\n      <td>2.0 V6 TB</td>\n    </tr>\n    <tr>\n      <th>1</th>\n      <td>1</td>\n      <td>alfa-romeo</td>\n      <td>Alfa Romeo 164</td>\n      <td>black</td>\n      <td>Feb-95</td>\n      <td>1995</td>\n      <td>24900</td>\n      <td>191</td>\n      <td>260</td>\n      <td>Manual</td>\n      <td>Petrol</td>\n      <td>NaN</td>\n      <td>#NAME?</td>\n      <td>190000.0</td>\n      <td>Q4 Allrad, 3.2L GTA</td>\n    </tr>\n    <tr>\n      <th>2</th>\n      <td>2</td>\n      <td>alfa-romeo</td>\n      <td>Alfa Romeo Spider</td>\n      <td>black</td>\n      <td>Feb-95</td>\n      <td>1995</td>\n      <td>5900</td>\n      <td>110</td>\n      <td>150</td>\n      <td>Unknown</td>\n      <td>Petrol</td>\n      <td>NaN</td>\n      <td>#NAME?</td>\n      <td>129000.0</td>\n      <td>ALFA ROME 916</td>\n    </tr>\n    <tr>\n      <th>3</th>\n      <td>3</td>\n      <td>alfa-romeo</td>\n      <td>Alfa Romeo Spider</td>\n      <td>black</td>\n      <td>Jul-95</td>\n      <td>1995</td>\n      <td>4900</td>\n      <td>110</td>\n      <td>150</td>\n      <td>Manual</td>\n      <td>Petrol</td>\n      <td>9,5 l/100 km</td>\n      <td>225 g/km</td>\n      <td>189500.0</td>\n      <td>2.0 16V Twin Spark L</td>\n    </tr>\n    <tr>\n      <th>4</th>\n      <td>4</td>\n      <td>alfa-romeo</td>\n      <td>Alfa Romeo 164</td>\n      <td>red</td>\n      <td>Nov-96</td>\n      <td>1996</td>\n      <td>17950</td>\n      <td>132</td>\n      <td>179</td>\n      <td>Manual</td>\n      <td>Petrol</td>\n      <td>7,2 l/100 km</td>\n      <td>#NAME?</td>\n      <td>96127.0</td>\n      <td>3.0i Super V6, absoluter Topzustand !</td>\n    </tr>\n  </tbody>\n</table>\n</div>"
     },
     "execution_count": 43,
     "metadata": {},
     "output_type": "execute_result"
    }
   ],
   "source": [
    "df = pd.read_csv('data.csv')\n",
    "df.head()"
   ],
   "metadata": {
    "collapsed": false,
    "ExecuteTime": {
     "end_time": "2023-08-01T17:11:25.614661200Z",
     "start_time": "2023-08-01T17:11:24.347742Z"
    }
   }
  },
  {
   "cell_type": "markdown",
   "source": [
    "It contains data on cars manufactured between 1995 and 2023, listed for sale on one of Germany's largest car sales websites, autoscout24. Link to dataset source:\n",
    "https://www.kaggle.com/datasets/wspirat/germany-used-cars-dataset-2023."
   ],
   "metadata": {
    "collapsed": false
   }
  },
  {
   "cell_type": "markdown",
   "source": [
    "The name and format of the variables in the first 5 rows of the dataset are displayed."
   ],
   "metadata": {
    "collapsed": false
   }
  },
  {
   "cell_type": "code",
   "execution_count": 44,
   "outputs": [
    {
     "data": {
      "text/plain": "(251079, 15)"
     },
     "execution_count": 44,
     "metadata": {},
     "output_type": "execute_result"
    }
   ],
   "source": [
    "df.shape"
   ],
   "metadata": {
    "collapsed": false,
    "ExecuteTime": {
     "end_time": "2023-08-01T17:11:25.614661200Z",
     "start_time": "2023-08-01T17:11:24.931822400Z"
    }
   }
  },
  {
   "cell_type": "markdown",
   "source": [
    "The dataset has 15 variables and 251079 entries."
   ],
   "metadata": {
    "collapsed": false
   }
  },
  {
   "cell_type": "markdown",
   "source": [
    "## Data Cleaning"
   ],
   "metadata": {
    "collapsed": false
   }
  },
  {
   "cell_type": "code",
   "execution_count": 45,
   "outputs": [
    {
     "name": "stdout",
     "output_type": "stream",
     "text": [
      "<class 'pandas.core.frame.DataFrame'>\n",
      "RangeIndex: 251079 entries, 0 to 251078\n",
      "Data columns (total 15 columns):\n",
      " #   Column                    Non-Null Count   Dtype  \n",
      "---  ------                    --------------   -----  \n",
      " 0   Unnamed: 0                251079 non-null  int64  \n",
      " 1   brand                     251079 non-null  object \n",
      " 2   model                     251079 non-null  object \n",
      " 3   color                     250913 non-null  object \n",
      " 4   registration_date         251075 non-null  object \n",
      " 5   year                      251079 non-null  object \n",
      " 6   price_in_euro             251079 non-null  object \n",
      " 7   power_kw                  250945 non-null  object \n",
      " 8   power_ps                  250950 non-null  object \n",
      " 9   transmission_type         251079 non-null  object \n",
      " 10  fuel_type                 251079 non-null  object \n",
      " 11  fuel_consumption_l_100km  224206 non-null  object \n",
      " 12  fuel_consumption_g_km     251079 non-null  object \n",
      " 13  mileage_in_km             250927 non-null  float64\n",
      " 14  offer_description         251078 non-null  object \n",
      "dtypes: float64(1), int64(1), object(13)\n",
      "memory usage: 28.7+ MB\n"
     ]
    }
   ],
   "source": [
    "df.info()"
   ],
   "metadata": {
    "collapsed": false,
    "ExecuteTime": {
     "end_time": "2023-08-01T17:11:25.625135200Z",
     "start_time": "2023-08-01T17:11:24.937057500Z"
    }
   }
  },
  {
   "cell_type": "markdown",
   "source": [
    "The variable type and the number of non-null entries for each variable are displayed. Variables such as _price_in_euro_ are incorrectly formatted as object instead of float64. The difference between the variables in the number of non-null counts indicates missing values in the dataset."
   ],
   "metadata": {
    "collapsed": false
   }
  },
  {
   "cell_type": "markdown",
   "source": [],
   "metadata": {
    "collapsed": false
   }
  },
  {
   "cell_type": "code",
   "execution_count": 46,
   "outputs": [],
   "source": [
    "df.drop('Unnamed: 0', inplace=True, axis=1)\n",
    "df.drop('registration_date', inplace=True, axis=1)\n",
    "df.drop('power_kw', inplace=True, axis=1)\n",
    "df.drop('offer_description', inplace=True, axis=1)"
   ],
   "metadata": {
    "collapsed": false,
    "ExecuteTime": {
     "end_time": "2023-08-01T17:11:25.636135500Z",
     "start_time": "2023-08-01T17:11:25.291359200Z"
    }
   }
  },
  {
   "cell_type": "markdown",
   "source": [
    "The _Unnamed: 0_ column is removed because there is already an index in the dataset. The _registration_date_ and _power_kw_ columns are removed because they are not needed, the _year_ column is more relevant than _registration_date_, and _power_ps_ measures machine power in a different unit than _power_kw_. The _offer_description_ column is removed because of its lack of usability."
   ],
   "metadata": {
    "collapsed": false
   }
  },
  {
   "cell_type": "code",
   "execution_count": 47,
   "outputs": [
    {
     "data": {
      "text/plain": "array(['alfa-romeo', 'aston-martin', 'audi', 'bentley', 'bmw', 'cadillac',\n       'chevrolet', 'chrysler', 'citroen', 'dacia', 'daewoo', 'daihatsu',\n       'dodge', 'ferrari', 'fiat', 'ford', 'honda', 'hyundai', 'infiniti',\n       'isuzu', 'jaguar', 'jeep', 'kia', 'lada', 'lamborghini', 'lancia',\n       'land-rover', 'maserati', 'mazda', 'mercedes-benz', 'mini',\n       'mitsubishi', 'nissan', 'opel', 'peugeot', 'porsche', 'proton',\n       'renault', 'rover', 'saab', 'seat', 'skoda', 'smart', 'ssangyong',\n       'toyota', 'volkswagen', 'volvo'], dtype=object)"
     },
     "execution_count": 47,
     "metadata": {},
     "output_type": "execute_result"
    }
   ],
   "source": [
    "pd.unique(df['brand'])"
   ],
   "metadata": {
    "collapsed": false,
    "ExecuteTime": {
     "end_time": "2023-08-01T17:11:25.637166200Z",
     "start_time": "2023-08-01T17:11:25.368899100Z"
    }
   }
  },
  {
   "cell_type": "markdown",
   "source": [
    "All car brands present in the dataset are displayed."
   ],
   "metadata": {
    "collapsed": false
   }
  },
  {
   "cell_type": "code",
   "execution_count": 48,
   "outputs": [],
   "source": [
    "df['brand'].replace('-', '', inplace=True, regex=True)\n",
    "df['model'].replace(' ', '', inplace=True, regex=True)\n",
    "df['model'].replace('-', '', inplace=True, regex=True)\n",
    "df['brand'] = df['brand'].apply(str.upper)\n",
    "df['model'] = df['model'].apply(str.upper)"
   ],
   "metadata": {
    "collapsed": false,
    "ExecuteTime": {
     "end_time": "2023-08-01T17:11:26.228490800Z",
     "start_time": "2023-08-01T17:11:25.385507600Z"
    }
   }
  },
  {
   "cell_type": "markdown",
   "source": [
    "The car brands and models are formatted in such a way that they are written in capital letters, without blanks or dashes."
   ],
   "metadata": {
    "collapsed": false
   }
  },
  {
   "cell_type": "code",
   "execution_count": 49,
   "outputs": [
    {
     "data": {
      "text/plain": "        brand model   color  year price_in_euro power_ps transmission_type  \\\n251071  VOLVO  XC60  silver  2023         81350      310         Automatic   \n251072  VOLVO  XC60  silver  2023         55400      197         Automatic   \n251073  VOLVO  XC60  silver  2023         54500      197         Automatic   \n251075  VOLVO  XC90   white  2023         89690      235         Automatic   \n251076  VOLVO   V60   white  2023         61521      197         Automatic   \n\n       fuel_type fuel_consumption_l_100km fuel_consumption_g_km  mileage_in_km  \n251071    Hybrid             7,4 l/100 km              167 g/km           60.0  \n251072    Diesel             5,6 l/100 km              142 g/km         5000.0  \n251073    Diesel             5,6 l/100 km              142 g/km         5900.0  \n251075    Diesel             7,6 l/100 km              202 g/km         4900.0  \n251076    Diesel             4,7 l/100 km              125 g/km         1531.0  ",
      "text/html": "<div>\n<style scoped>\n    .dataframe tbody tr th:only-of-type {\n        vertical-align: middle;\n    }\n\n    .dataframe tbody tr th {\n        vertical-align: top;\n    }\n\n    .dataframe thead th {\n        text-align: right;\n    }\n</style>\n<table border=\"1\" class=\"dataframe\">\n  <thead>\n    <tr style=\"text-align: right;\">\n      <th></th>\n      <th>brand</th>\n      <th>model</th>\n      <th>color</th>\n      <th>year</th>\n      <th>price_in_euro</th>\n      <th>power_ps</th>\n      <th>transmission_type</th>\n      <th>fuel_type</th>\n      <th>fuel_consumption_l_100km</th>\n      <th>fuel_consumption_g_km</th>\n      <th>mileage_in_km</th>\n    </tr>\n  </thead>\n  <tbody>\n    <tr>\n      <th>251071</th>\n      <td>VOLVO</td>\n      <td>XC60</td>\n      <td>silver</td>\n      <td>2023</td>\n      <td>81350</td>\n      <td>310</td>\n      <td>Automatic</td>\n      <td>Hybrid</td>\n      <td>7,4 l/100 km</td>\n      <td>167 g/km</td>\n      <td>60.0</td>\n    </tr>\n    <tr>\n      <th>251072</th>\n      <td>VOLVO</td>\n      <td>XC60</td>\n      <td>silver</td>\n      <td>2023</td>\n      <td>55400</td>\n      <td>197</td>\n      <td>Automatic</td>\n      <td>Diesel</td>\n      <td>5,6 l/100 km</td>\n      <td>142 g/km</td>\n      <td>5000.0</td>\n    </tr>\n    <tr>\n      <th>251073</th>\n      <td>VOLVO</td>\n      <td>XC60</td>\n      <td>silver</td>\n      <td>2023</td>\n      <td>54500</td>\n      <td>197</td>\n      <td>Automatic</td>\n      <td>Diesel</td>\n      <td>5,6 l/100 km</td>\n      <td>142 g/km</td>\n      <td>5900.0</td>\n    </tr>\n    <tr>\n      <th>251075</th>\n      <td>VOLVO</td>\n      <td>XC90</td>\n      <td>white</td>\n      <td>2023</td>\n      <td>89690</td>\n      <td>235</td>\n      <td>Automatic</td>\n      <td>Diesel</td>\n      <td>7,6 l/100 km</td>\n      <td>202 g/km</td>\n      <td>4900.0</td>\n    </tr>\n    <tr>\n      <th>251076</th>\n      <td>VOLVO</td>\n      <td>V60</td>\n      <td>white</td>\n      <td>2023</td>\n      <td>61521</td>\n      <td>197</td>\n      <td>Automatic</td>\n      <td>Diesel</td>\n      <td>4,7 l/100 km</td>\n      <td>125 g/km</td>\n      <td>1531.0</td>\n    </tr>\n  </tbody>\n</table>\n</div>"
     },
     "execution_count": 49,
     "metadata": {},
     "output_type": "execute_result"
    }
   ],
   "source": [
    "for index, row in df.iterrows():\n",
    "    brand = row['brand']\n",
    "    model = row['model']\n",
    "    new_model = model.replace(brand, '')\n",
    "    df.at[index, 'model'] = new_model\n",
    "df['model'].replace('', np.nan, inplace=True, regex=True)\n",
    "df.dropna(inplace=True)\n",
    "df.tail()"
   ],
   "metadata": {
    "collapsed": false,
    "ExecuteTime": {
     "end_time": "2023-08-01T17:11:40.377196100Z",
     "start_time": "2023-08-01T17:11:26.231490200Z"
    }
   }
  },
  {
   "cell_type": "markdown",
   "source": [
    "Since the column model contains the brand name, it is removed because it is not necessary. Entries without a specific model are removed."
   ],
   "metadata": {
    "collapsed": false
   }
  },
  {
   "cell_type": "code",
   "execution_count": 50,
   "outputs": [],
   "source": [
    "df['year'] = pd.to_datetime(df['year'], errors='coerce')\n",
    "df['year'] = df['year'].dt.year\n",
    "df.dropna(inplace=True)"
   ],
   "metadata": {
    "collapsed": false,
    "ExecuteTime": {
     "end_time": "2023-08-01T17:11:40.675565200Z",
     "start_time": "2023-08-01T17:11:40.379196700Z"
    }
   }
  },
  {
   "cell_type": "markdown",
   "source": [
    "The _year_ column is formatted to contain only the year in which the car was produced. Data not containing the year are deleted."
   ],
   "metadata": {
    "collapsed": false
   }
  },
  {
   "cell_type": "code",
   "execution_count": 51,
   "outputs": [],
   "source": [
    "df['transmission_type'].replace('Unknown', np.nan, inplace=True, regex=True)\n",
    "df.dropna(inplace=True)"
   ],
   "metadata": {
    "collapsed": false,
    "ExecuteTime": {
     "end_time": "2023-08-01T17:11:41.076538300Z",
     "start_time": "2023-08-01T17:11:40.677564500Z"
    }
   }
  },
  {
   "cell_type": "markdown",
   "source": [
    "Records with _transmission_type_type_ as _Unknown_, as well as those without this type, are removed."
   ],
   "metadata": {
    "collapsed": false
   }
  },
  {
   "cell_type": "code",
   "execution_count": 52,
   "outputs": [],
   "source": [
    "df['fuel_type'].replace('Unknown', np.nan, inplace=True, regex=True)\n",
    "aux = df.loc[df['fuel_type'] == 'Electric', 'fuel_consumption_g_km'].tolist()\n",
    "df.loc[df['fuel_type'] == 'Electric', 'electric_range'] = aux\n",
    "df.drop('fuel_consumption_g_km', inplace=True, axis=1)\n",
    "df.loc[df['fuel_type'] == 'Electric', 'fuel_consumption_l_100km'] = 0\n",
    "df.loc[df['fuel_type'] != 'Electric', 'electric_range'] = 0\n",
    "df['fuel_type'].replace('Other', np.nan, inplace=True, regex=True)\n",
    "df['fuel_type'].replace('Hydrogen', np.nan, inplace=True, regex=True)\n",
    "df['fuel_type'].replace('Ethanol', np.nan, inplace=True, regex=True)\n",
    "df.dropna(inplace=True)"
   ],
   "metadata": {
    "collapsed": false,
    "ExecuteTime": {
     "end_time": "2023-08-01T17:11:42.102302300Z",
     "start_time": "2023-08-01T17:11:41.081537300Z"
    }
   }
  },
  {
   "cell_type": "markdown",
   "source": [
    "Records with _fuel_type_type _Unknown_, _Other_, _Hydrogen_, _Ethanol_ are deleted. All records related to _electric_cars_ have the range moved to the _electric_range_ column and set to 0 in the _fuel_consumption_l_100km_ column. The _fuel_consumption_g_km_ column is removed, as are records with missing values."
   ],
   "metadata": {
    "collapsed": false
   }
  },
  {
   "cell_type": "code",
   "execution_count": 53,
   "outputs": [],
   "source": [
    "df['fuel_consumption_l_100km'].replace('-', '', inplace=True, regex=True)\n",
    "df['fuel_consumption_l_100km'].replace(' ', '', inplace=True, regex=True)\n",
    "df['fuel_consumption_l_100km'].replace('kg/100km', '', inplace=True, regex=True)\n",
    "df['fuel_consumption_l_100km'].replace('l/100km', '', inplace=True, regex=True)\n",
    "df['fuel_consumption_l_100km'].replace('\\(\\)', np.nan, inplace=True, regex=True)\n",
    "df['fuel_consumption_l_100km'].replace('kWh/100km', 'zzz', inplace=True, regex=True)\n",
    "df['fuel_consumption_l_100km'].replace('km\\(Ort\\)', 'zzz', inplace=True, regex=True)\n",
    "df['fuel_consumption_l_100km'] = df['fuel_consumption_l_100km'].astype(str)\n",
    "df = df[df['fuel_consumption_l_100km'].str.contains('zzz') == False]\n",
    "df['fuel_consumption_l_100km'].replace(',', '.', inplace=True, regex=True)\n",
    "df.dropna(inplace=True)\n",
    "df = df.copy()"
   ],
   "metadata": {
    "collapsed": false,
    "ExecuteTime": {
     "end_time": "2023-08-01T17:11:44.132236400Z",
     "start_time": "2023-08-01T17:11:42.106303700Z"
    }
   }
  },
  {
   "cell_type": "markdown",
   "source": [
    "The _fuel_consumption_l_100km_ column is formatted to contain only numeric characters, and cars that do not comply with litre per 100km are removed, as well as all missing entries."
   ],
   "metadata": {
    "collapsed": false
   }
  },
  {
   "cell_type": "code",
   "execution_count": 54,
   "outputs": [],
   "source": [
    "df['electric_range'].replace(' ', '', inplace=True, regex=True)\n",
    "df['electric_range'].replace('kmReichweite', '', inplace=True, regex=True)\n",
    "df['electric_range'].replace('g/km', 'zzz', inplace=True, regex=True)\n",
    "df = df.drop(df[(df['fuel_type'] == 'Electric') & (df['electric_range'].str.contains('zzz') == True)].index)"
   ],
   "metadata": {
    "collapsed": false,
    "ExecuteTime": {
     "end_time": "2023-08-01T17:11:44.909507Z",
     "start_time": "2023-08-01T17:11:44.146236100Z"
    }
   }
  },
  {
   "cell_type": "markdown",
   "source": [
    "The _electric_range_ column is formatted to contain only numeric characters, and cars that do not follow the range format are removed."
   ],
   "metadata": {
    "collapsed": false
   }
  },
  {
   "cell_type": "markdown",
   "source": [
    "## Data Validation"
   ],
   "metadata": {
    "collapsed": false
   }
  },
  {
   "cell_type": "code",
   "execution_count": 55,
   "outputs": [
    {
     "name": "stdout",
     "output_type": "stream",
     "text": [
      "<class 'pandas.core.frame.DataFrame'>\n",
      "Int64Index: 221549 entries, 0 to 251076\n",
      "Data columns (total 11 columns):\n",
      " #   Column                    Non-Null Count   Dtype  \n",
      "---  ------                    --------------   -----  \n",
      " 0   brand                     221549 non-null  object \n",
      " 1   model                     221549 non-null  object \n",
      " 2   color                     221549 non-null  object \n",
      " 3   year                      221549 non-null  float64\n",
      " 4   price_in_euro             221549 non-null  object \n",
      " 5   power_ps                  221549 non-null  object \n",
      " 6   transmission_type         221549 non-null  object \n",
      " 7   fuel_type                 221549 non-null  object \n",
      " 8   fuel_consumption_l_100km  221549 non-null  object \n",
      " 9   mileage_in_km             221549 non-null  float64\n",
      " 10  electric_range            221549 non-null  object \n",
      "dtypes: float64(2), object(9)\n",
      "memory usage: 20.3+ MB\n"
     ]
    }
   ],
   "source": [
    "df.info()"
   ],
   "metadata": {
    "collapsed": false,
    "ExecuteTime": {
     "end_time": "2023-08-01T17:11:45.131574900Z",
     "start_time": "2023-08-01T17:11:44.912508Z"
    }
   }
  },
  {
   "cell_type": "code",
   "execution_count": 56,
   "outputs": [
    {
     "name": "stdout",
     "output_type": "stream",
     "text": [
      "<class 'pandas.core.frame.DataFrame'>\n",
      "Int64Index: 220469 entries, 0 to 251076\n",
      "Data columns (total 11 columns):\n",
      " #   Column                    Non-Null Count   Dtype  \n",
      "---  ------                    --------------   -----  \n",
      " 0   brand                     220469 non-null  object \n",
      " 1   model                     220469 non-null  object \n",
      " 2   color                     220469 non-null  object \n",
      " 3   year                      220469 non-null  float64\n",
      " 4   price_in_euro             220469 non-null  float64\n",
      " 5   power_ps                  220469 non-null  float64\n",
      " 6   transmission_type         220469 non-null  object \n",
      " 7   fuel_type                 220469 non-null  object \n",
      " 8   fuel_consumption_l_100km  220469 non-null  float64\n",
      " 9   mileage_in_km             220469 non-null  float64\n",
      " 10  electric_range            220469 non-null  float64\n",
      "dtypes: float64(6), object(5)\n",
      "memory usage: 20.2+ MB\n"
     ]
    }
   ],
   "source": [
    "df['price_in_euro'] = df['price_in_euro'].astype(float)\n",
    "df['power_ps'] = df['power_ps'].astype(float)\n",
    "df['fuel_consumption_l_100km'] = df['fuel_consumption_l_100km'].astype(float)\n",
    "df['electric_range'] = df['electric_range'].astype(float)\n",
    "df.dropna(inplace=True)\n",
    "df.info()"
   ],
   "metadata": {
    "collapsed": false,
    "ExecuteTime": {
     "end_time": "2023-08-01T17:11:45.563997100Z",
     "start_time": "2023-08-01T17:11:45.133550Z"
    }
   }
  },
  {
   "cell_type": "markdown",
   "source": [
    "Columns _price_in_euro_, _power_ps_, _fuel_consumption_l_100km_, _electric_range_ are converted to float64 format. All missing entries are removed."
   ],
   "metadata": {
    "collapsed": false
   }
  },
  {
   "cell_type": "code",
   "execution_count": 57,
   "outputs": [],
   "source": [
    "df = df.drop(df[(df['fuel_type'] == 'Electric') & (df['electric_range'] == 0)].index)\n",
    "df = df.drop(df[~df['fuel_type'].isin(['Electric', 'Hybrid', 'Diesel Hybrid']) & (df['fuel_consumption_l_100km'] <= 1)].index)\n",
    "df = df.drop(df[df['fuel_type'].isin(['Hybrid', 'Diesel Hybrid']) & (df['fuel_consumption_l_100km'] == 0)].index)"
   ],
   "metadata": {
    "collapsed": false,
    "ExecuteTime": {
     "end_time": "2023-08-01T17:11:45.703961Z",
     "start_time": "2023-08-01T17:11:45.576996100Z"
    }
   }
  },
  {
   "cell_type": "markdown",
   "source": [
    "Electric cars with zero electric range and all non-electric/non-hybrid cars with a fuel consumption of less than 1 litre per 100 km are removed. All hybrid cars with a fuel consumption of 0 litres per 100 km are excluded."
   ],
   "metadata": {
    "collapsed": false
   }
  },
  {
   "cell_type": "markdown",
   "source": [
    "## Exploratory Data Analysis"
   ],
   "metadata": {
    "collapsed": false
   }
  },
  {
   "cell_type": "code",
   "execution_count": 58,
   "outputs": [],
   "source": [
    "df.reset_index(inplace=True, drop=True)"
   ],
   "metadata": {
    "collapsed": false,
    "ExecuteTime": {
     "end_time": "2023-08-01T17:11:45.704959600Z",
     "start_time": "2023-08-01T17:11:45.695147600Z"
    }
   }
  },
  {
   "cell_type": "markdown",
   "source": [
    "The index is adjusted to match the inputs."
   ],
   "metadata": {
    "collapsed": false
   }
  },
  {
   "cell_type": "code",
   "execution_count": 59,
   "outputs": [],
   "source": [
    "df.to_csv('new.csv')"
   ],
   "metadata": {
    "collapsed": false,
    "ExecuteTime": {
     "end_time": "2023-08-01T17:11:46.921362500Z",
     "start_time": "2023-08-01T17:11:45.702962200Z"
    }
   }
  },
  {
   "cell_type": "code",
   "execution_count": 60,
   "outputs": [
    {
     "data": {
      "text/plain": "       brand   model  color    year  price_in_euro  power_ps  \\\n0  ALFAROMEO     GTV    red  1995.0         1300.0     201.0   \n1  ALFAROMEO  SPIDER  black  1995.0         4900.0     150.0   \n2  ALFAROMEO     164    red  1996.0        17950.0     179.0   \n3  ALFAROMEO  SPIDER    red  1996.0         7900.0     150.0   \n4  ALFAROMEO     145    red  1996.0         3500.0     150.0   \n\n  transmission_type fuel_type  fuel_consumption_l_100km  mileage_in_km  \\\n0            Manual    Petrol                      10.9       160500.0   \n1            Manual    Petrol                       9.5       189500.0   \n2            Manual    Petrol                       7.2        96127.0   \n3            Manual    Petrol                       9.5        47307.0   \n4            Manual    Petrol                       8.8       230000.0   \n\n   electric_range  \n0             0.0  \n1             0.0  \n2             0.0  \n3             0.0  \n4             0.0  ",
      "text/html": "<div>\n<style scoped>\n    .dataframe tbody tr th:only-of-type {\n        vertical-align: middle;\n    }\n\n    .dataframe tbody tr th {\n        vertical-align: top;\n    }\n\n    .dataframe thead th {\n        text-align: right;\n    }\n</style>\n<table border=\"1\" class=\"dataframe\">\n  <thead>\n    <tr style=\"text-align: right;\">\n      <th></th>\n      <th>brand</th>\n      <th>model</th>\n      <th>color</th>\n      <th>year</th>\n      <th>price_in_euro</th>\n      <th>power_ps</th>\n      <th>transmission_type</th>\n      <th>fuel_type</th>\n      <th>fuel_consumption_l_100km</th>\n      <th>mileage_in_km</th>\n      <th>electric_range</th>\n    </tr>\n  </thead>\n  <tbody>\n    <tr>\n      <th>0</th>\n      <td>ALFAROMEO</td>\n      <td>GTV</td>\n      <td>red</td>\n      <td>1995.0</td>\n      <td>1300.0</td>\n      <td>201.0</td>\n      <td>Manual</td>\n      <td>Petrol</td>\n      <td>10.9</td>\n      <td>160500.0</td>\n      <td>0.0</td>\n    </tr>\n    <tr>\n      <th>1</th>\n      <td>ALFAROMEO</td>\n      <td>SPIDER</td>\n      <td>black</td>\n      <td>1995.0</td>\n      <td>4900.0</td>\n      <td>150.0</td>\n      <td>Manual</td>\n      <td>Petrol</td>\n      <td>9.5</td>\n      <td>189500.0</td>\n      <td>0.0</td>\n    </tr>\n    <tr>\n      <th>2</th>\n      <td>ALFAROMEO</td>\n      <td>164</td>\n      <td>red</td>\n      <td>1996.0</td>\n      <td>17950.0</td>\n      <td>179.0</td>\n      <td>Manual</td>\n      <td>Petrol</td>\n      <td>7.2</td>\n      <td>96127.0</td>\n      <td>0.0</td>\n    </tr>\n    <tr>\n      <th>3</th>\n      <td>ALFAROMEO</td>\n      <td>SPIDER</td>\n      <td>red</td>\n      <td>1996.0</td>\n      <td>7900.0</td>\n      <td>150.0</td>\n      <td>Manual</td>\n      <td>Petrol</td>\n      <td>9.5</td>\n      <td>47307.0</td>\n      <td>0.0</td>\n    </tr>\n    <tr>\n      <th>4</th>\n      <td>ALFAROMEO</td>\n      <td>145</td>\n      <td>red</td>\n      <td>1996.0</td>\n      <td>3500.0</td>\n      <td>150.0</td>\n      <td>Manual</td>\n      <td>Petrol</td>\n      <td>8.8</td>\n      <td>230000.0</td>\n      <td>0.0</td>\n    </tr>\n  </tbody>\n</table>\n</div>"
     },
     "execution_count": 60,
     "metadata": {},
     "output_type": "execute_result"
    }
   ],
   "source": [
    "df.head()"
   ],
   "metadata": {
    "collapsed": false,
    "ExecuteTime": {
     "end_time": "2023-08-01T17:11:46.932775100Z",
     "start_time": "2023-08-01T17:11:46.922364200Z"
    }
   }
  },
  {
   "cell_type": "code",
   "execution_count": 61,
   "outputs": [
    {
     "data": {
      "text/plain": "(220403, 11)"
     },
     "execution_count": 61,
     "metadata": {},
     "output_type": "execute_result"
    }
   ],
   "source": [
    "df.shape"
   ],
   "metadata": {
    "collapsed": false,
    "ExecuteTime": {
     "end_time": "2023-08-01T17:11:46.939366100Z",
     "start_time": "2023-08-01T17:11:46.934775400Z"
    }
   }
  },
  {
   "cell_type": "markdown",
   "source": [
    "The dataset used in the analysis contains 15 variables and 220403 entries."
   ],
   "metadata": {
    "collapsed": false
   }
  },
  {
   "cell_type": "code",
   "execution_count": 62,
   "outputs": [
    {
     "name": "stdout",
     "output_type": "stream",
     "text": [
      "<class 'pandas.core.frame.DataFrame'>\n",
      "RangeIndex: 220403 entries, 0 to 220402\n",
      "Data columns (total 11 columns):\n",
      " #   Column                    Non-Null Count   Dtype  \n",
      "---  ------                    --------------   -----  \n",
      " 0   brand                     220403 non-null  object \n",
      " 1   model                     220403 non-null  object \n",
      " 2   color                     220403 non-null  object \n",
      " 3   year                      220403 non-null  float64\n",
      " 4   price_in_euro             220403 non-null  float64\n",
      " 5   power_ps                  220403 non-null  float64\n",
      " 6   transmission_type         220403 non-null  object \n",
      " 7   fuel_type                 220403 non-null  object \n",
      " 8   fuel_consumption_l_100km  220403 non-null  float64\n",
      " 9   mileage_in_km             220403 non-null  float64\n",
      " 10  electric_range            220403 non-null  float64\n",
      "dtypes: float64(6), object(5)\n",
      "memory usage: 18.5+ MB\n"
     ]
    }
   ],
   "source": [
    "df.info()"
   ],
   "metadata": {
    "collapsed": false,
    "ExecuteTime": {
     "end_time": "2023-08-01T17:11:47.077570800Z",
     "start_time": "2023-08-01T17:11:46.941365Z"
    }
   }
  },
  {
   "cell_type": "markdown",
   "source": [
    "The dataset contains several categorical variables such as _brand_, _model_, _color_, _transmission_type_, _fuel_type_."
   ],
   "metadata": {
    "collapsed": false
   }
  },
  {
   "cell_type": "code",
   "execution_count": 63,
   "outputs": [
    {
     "data": {
      "text/plain": "             brand   model   color transmission_type fuel_type\ncount       220403  220403  220403            220403    220403\nunique          47    1165      14                 3         7\ntop     VOLKSWAGEN    GOLF   black         Automatic    Petrol\nfreq         30009    6928   52245            112646    130052",
      "text/html": "<div>\n<style scoped>\n    .dataframe tbody tr th:only-of-type {\n        vertical-align: middle;\n    }\n\n    .dataframe tbody tr th {\n        vertical-align: top;\n    }\n\n    .dataframe thead th {\n        text-align: right;\n    }\n</style>\n<table border=\"1\" class=\"dataframe\">\n  <thead>\n    <tr style=\"text-align: right;\">\n      <th></th>\n      <th>brand</th>\n      <th>model</th>\n      <th>color</th>\n      <th>transmission_type</th>\n      <th>fuel_type</th>\n    </tr>\n  </thead>\n  <tbody>\n    <tr>\n      <th>count</th>\n      <td>220403</td>\n      <td>220403</td>\n      <td>220403</td>\n      <td>220403</td>\n      <td>220403</td>\n    </tr>\n    <tr>\n      <th>unique</th>\n      <td>47</td>\n      <td>1165</td>\n      <td>14</td>\n      <td>3</td>\n      <td>7</td>\n    </tr>\n    <tr>\n      <th>top</th>\n      <td>VOLKSWAGEN</td>\n      <td>GOLF</td>\n      <td>black</td>\n      <td>Automatic</td>\n      <td>Petrol</td>\n    </tr>\n    <tr>\n      <th>freq</th>\n      <td>30009</td>\n      <td>6928</td>\n      <td>52245</td>\n      <td>112646</td>\n      <td>130052</td>\n    </tr>\n  </tbody>\n</table>\n</div>"
     },
     "execution_count": 63,
     "metadata": {},
     "output_type": "execute_result"
    }
   ],
   "source": [
    "df[['brand', 'model', 'color', 'transmission_type', 'fuel_type']].describe(include='all')"
   ],
   "metadata": {
    "collapsed": false,
    "ExecuteTime": {
     "end_time": "2023-08-01T17:11:47.209614400Z",
     "start_time": "2023-08-01T17:11:47.071573400Z"
    }
   }
  },
  {
   "cell_type": "markdown",
   "source": [
    "The dataset contains data on 47 brands, the most common being Volkswagen. 6928 of the car models listed are Volkswagen Golf. Most of the cars in the dataset are black, with automatic transmission and petrol fuelled."
   ],
   "metadata": {
    "collapsed": false
   }
  },
  {
   "cell_type": "code",
   "execution_count": 64,
   "outputs": [
    {
     "data": {
      "text/plain": "<Figure size 640x480 with 1 Axes>",
      "image/png": "[encoded data removed]"
     },
     "metadata": {},
     "output_type": "display_data"
    }
   ],
   "source": [
    "offer = df['brand'].value_counts()\n",
    "plt.barh(offer.index, offer.values)\n",
    "plt.yticks(fontsize=5)\n",
    "plt.title('Number of cars listed for each brand')\n",
    "plt.show()"
   ],
   "metadata": {
    "collapsed": false,
    "ExecuteTime": {
     "end_time": "2023-08-01T17:11:47.669394400Z",
     "start_time": "2023-08-01T17:11:47.212604900Z"
    }
   }
  },
  {
   "cell_type": "markdown",
   "source": [
    "The graph shows the number of cars listed for each brand in ascending order from top to bottom. We can see that most of the cars listed are primarily Volkswagen, then Mercedes-Benz, Audi, Opel and BMW."
   ],
   "metadata": {
    "collapsed": false
   }
  },
  {
   "cell_type": "code",
   "execution_count": 65,
   "outputs": [
    {
     "data": {
      "text/plain": "<Figure size 640x480 with 1 Axes>",
      "image/png": "[encoded data removed]"
     },
     "metadata": {},
     "output_type": "display_data"
    }
   ],
   "source": [
    "average = df[['brand', 'price_in_euro']].groupby('brand').mean().sort_values(by='price_in_euro', ascending=False)\n",
    "plt.barh(average.index, average.price_in_euro)\n",
    "plt.yticks(fontsize=5)\n",
    "plt.title('Average car price for each brand')\n",
    "plt.show()"
   ],
   "metadata": {
    "collapsed": false,
    "ExecuteTime": {
     "end_time": "2023-08-01T17:11:48.308832200Z",
     "start_time": "2023-08-01T17:11:47.684393500Z"
    }
   }
  },
  {
   "cell_type": "markdown",
   "source": [
    "The graph shows the average car price for each car brand listed. We can see that the brand with the most expensive cars on average is Lamborghini, followed by Ferrari, Bentley, Aston Martin and Porsche."
   ],
   "metadata": {
    "collapsed": false
   }
  },
  {
   "cell_type": "code",
   "execution_count": 66,
   "outputs": [
    {
     "data": {
      "text/plain": "                year  price_in_euro       power_ps  fuel_consumption_l_100km  \\\ncount  220403.000000   2.204030e+05  220403.000000             220403.000000   \nmean     2016.104441   2.501525e+04     168.976516                  6.080122   \nstd         5.441648   3.149883e+04      93.725653                  2.591899   \nmin      1995.000000   1.200000e+02       5.000000                  0.000000   \n25%      2013.000000   1.160000e+04     110.000000                  4.900000   \n50%      2017.000000   1.919000e+04     150.000000                  5.700000   \n75%      2020.000000   2.899000e+04     190.000000                  6.800000   \nmax      2023.000000   2.490000e+06     999.000000                173.000000   \n\n       mileage_in_km  electric_range  \ncount   2.204030e+05   220403.000000  \nmean    8.790944e+04        0.501599  \nstd     7.918609e+04       13.592062  \nmin     0.000000e+00        0.000000  \n25%     2.701200e+04        0.000000  \n50%     7.100000e+04        0.000000  \n75%     1.300000e+05        0.000000  \nmax     3.800000e+06      615.000000  ",
      "text/html": "<div>\n<style scoped>\n    .dataframe tbody tr th:only-of-type {\n        vertical-align: middle;\n    }\n\n    .dataframe tbody tr th {\n        vertical-align: top;\n    }\n\n    .dataframe thead th {\n        text-align: right;\n    }\n</style>\n<table border=\"1\" class=\"dataframe\">\n  <thead>\n    <tr style=\"text-align: right;\">\n      <th></th>\n      <th>year</th>\n      <th>price_in_euro</th>\n      <th>power_ps</th>\n      <th>fuel_consumption_l_100km</th>\n      <th>mileage_in_km</th>\n      <th>electric_range</th>\n    </tr>\n  </thead>\n  <tbody>\n    <tr>\n      <th>count</th>\n      <td>220403.000000</td>\n      <td>2.204030e+05</td>\n      <td>220403.000000</td>\n      <td>220403.000000</td>\n      <td>2.204030e+05</td>\n      <td>220403.000000</td>\n    </tr>\n    <tr>\n      <th>mean</th>\n      <td>2016.104441</td>\n      <td>2.501525e+04</td>\n      <td>168.976516</td>\n      <td>6.080122</td>\n      <td>8.790944e+04</td>\n      <td>0.501599</td>\n    </tr>\n    <tr>\n      <th>std</th>\n      <td>5.441648</td>\n      <td>3.149883e+04</td>\n      <td>93.725653</td>\n      <td>2.591899</td>\n      <td>7.918609e+04</td>\n      <td>13.592062</td>\n    </tr>\n    <tr>\n      <th>min</th>\n      <td>1995.000000</td>\n      <td>1.200000e+02</td>\n      <td>5.000000</td>\n      <td>0.000000</td>\n      <td>0.000000e+00</td>\n      <td>0.000000</td>\n    </tr>\n    <tr>\n      <th>25%</th>\n      <td>2013.000000</td>\n      <td>1.160000e+04</td>\n      <td>110.000000</td>\n      <td>4.900000</td>\n      <td>2.701200e+04</td>\n      <td>0.000000</td>\n    </tr>\n    <tr>\n      <th>50%</th>\n      <td>2017.000000</td>\n      <td>1.919000e+04</td>\n      <td>150.000000</td>\n      <td>5.700000</td>\n      <td>7.100000e+04</td>\n      <td>0.000000</td>\n    </tr>\n    <tr>\n      <th>75%</th>\n      <td>2020.000000</td>\n      <td>2.899000e+04</td>\n      <td>190.000000</td>\n      <td>6.800000</td>\n      <td>1.300000e+05</td>\n      <td>0.000000</td>\n    </tr>\n    <tr>\n      <th>max</th>\n      <td>2023.000000</td>\n      <td>2.490000e+06</td>\n      <td>999.000000</td>\n      <td>173.000000</td>\n      <td>3.800000e+06</td>\n      <td>615.000000</td>\n    </tr>\n  </tbody>\n</table>\n</div>"
     },
     "execution_count": 66,
     "metadata": {},
     "output_type": "execute_result"
    }
   ],
   "source": [
    "df.describe()"
   ],
   "metadata": {
    "collapsed": false,
    "ExecuteTime": {
     "end_time": "2023-08-01T17:11:48.390682500Z",
     "start_time": "2023-08-01T17:11:48.308832200Z"
    }
   }
  },
  {
   "cell_type": "markdown",
   "source": [
    "Some descriptive statistics are displayed for numerical variables, such as central tendency by mean, measures of variability by standard deviation, minimum and maximum, quartiles. We can see that 50% of the cars were manufactured earlier than 2017. The average price of a car in the dataset is 25015. 25% of the cars have more than 190 horsepower."
   ],
   "metadata": {
    "collapsed": false
   }
  },
  {
   "cell_type": "code",
   "execution_count": 67,
   "outputs": [
    {
     "data": {
      "text/plain": "<Figure size 640x480 with 2 Axes>",
      "image/png": "[encoded data removed]"
     },
     "metadata": {},
     "output_type": "display_data"
    }
   ],
   "source": [
    "correlation_matrix = df[['year', 'price_in_euro', 'power_ps', 'fuel_consumption_l_100km', 'mileage_in_km', 'electric_range']].corr()\n",
    "sns.heatmap(correlation_matrix, annot=True, cmap='coolwarm')\n",
    "plt.title('Correlation between the numeric variables')\n",
    "plt.show()"
   ],
   "metadata": {
    "collapsed": false,
    "ExecuteTime": {
     "end_time": "2023-08-01T17:11:48.889289500Z",
     "start_time": "2023-08-01T17:11:48.363682100Z"
    }
   }
  },
  {
   "cell_type": "markdown",
   "source": [
    "There is an average positive correlation between the price of cars and their power. Between _price_in_euro_ and the variables _an_, _fuel_consumption_l_100km_, _mileage_in_km_ there is a low correlation."
   ],
   "metadata": {
    "collapsed": false
   }
  },
  {
   "cell_type": "markdown",
   "source": [
    "## Forecasting using regression trees"
   ],
   "metadata": {
    "collapsed": false
   }
  },
  {
   "cell_type": "code",
   "execution_count": 68,
   "outputs": [],
   "source": [
    "for variable in df:\n",
    "    if df[variable].dtype == 'float64':\n",
    "        df[variable] = (df[variable]-df[variable].min())/(df[variable].max()-df[variable].min())"
   ],
   "metadata": {
    "collapsed": false,
    "ExecuteTime": {
     "end_time": "2023-08-01T17:11:48.988522Z",
     "start_time": "2023-08-01T17:11:48.890290Z"
    }
   }
  },
  {
   "cell_type": "markdown",
   "source": [
    "Since the variables in the dataset contain different scales, I used min-max normalization to reduce them to the range [0,1]."
   ],
   "metadata": {
    "collapsed": false
   }
  },
  {
   "cell_type": "code",
   "execution_count": 69,
   "outputs": [
    {
     "data": {
      "text/plain": "       year  price_in_euro  power_ps  fuel_consumption_l_100km  mileage_in_km  \\\n0  0.000000       0.000474  0.197183                  0.063006       0.042237   \n1  0.000000       0.001920  0.145875                  0.054913       0.049868   \n2  0.035714       0.007161  0.175050                  0.041618       0.025297   \n3  0.035714       0.003125  0.145875                  0.054913       0.012449   \n4  0.035714       0.001357  0.145875                  0.050867       0.060526   \n\n   electric_range  brand_ALFAROMEO  brand_ASTONMARTIN  brand_AUDI  \\\n0             0.0                1                  0           0   \n1             0.0                1                  0           0   \n2             0.0                1                  0           0   \n3             0.0                1                  0           0   \n4             0.0                1                  0           0   \n\n   brand_BENTLEY  ...  transmission_type_Automatic  transmission_type_Manual  \\\n0              0  ...                            0                         1   \n1              0  ...                            0                         1   \n2              0  ...                            0                         1   \n3              0  ...                            0                         1   \n4              0  ...                            0                         1   \n\n   transmission_type_Semi-automatic  fuel_type_CNG  fuel_type_Diesel  \\\n0                                 0              0                 0   \n1                                 0              0                 0   \n2                                 0              0                 0   \n3                                 0              0                 0   \n4                                 0              0                 0   \n\n   fuel_type_Diesel Hybrid  fuel_type_Electric  fuel_type_Hybrid  \\\n0                        0                   0                 0   \n1                        0                   0                 0   \n2                        0                   0                 0   \n3                        0                   0                 0   \n4                        0                   0                 0   \n\n   fuel_type_LPG  fuel_type_Petrol  \n0              0                 1  \n1              0                 1  \n2              0                 1  \n3              0                 1  \n4              0                 1  \n\n[5 rows x 1242 columns]",
      "text/html": "<div>\n<style scoped>\n    .dataframe tbody tr th:only-of-type {\n        vertical-align: middle;\n    }\n\n    .dataframe tbody tr th {\n        vertical-align: top;\n    }\n\n    .dataframe thead th {\n        text-align: right;\n    }\n</style>\n<table border=\"1\" class=\"dataframe\">\n  <thead>\n    <tr style=\"text-align: right;\">\n      <th></th>\n      <th>year</th>\n      <th>price_in_euro</th>\n      <th>power_ps</th>\n      <th>fuel_consumption_l_100km</th>\n      <th>mileage_in_km</th>\n      <th>electric_range</th>\n      <th>brand_ALFAROMEO</th>\n      <th>brand_ASTONMARTIN</th>\n      <th>brand_AUDI</th>\n      <th>brand_BENTLEY</th>\n      <th>...</th>\n      <th>transmission_type_Automatic</th>\n      <th>transmission_type_Manual</th>\n      <th>transmission_type_Semi-automatic</th>\n      <th>fuel_type_CNG</th>\n      <th>fuel_type_Diesel</th>\n      <th>fuel_type_Diesel Hybrid</th>\n      <th>fuel_type_Electric</th>\n      <th>fuel_type_Hybrid</th>\n      <th>fuel_type_LPG</th>\n      <th>fuel_type_Petrol</th>\n    </tr>\n  </thead>\n  <tbody>\n    <tr>\n      <th>0</th>\n      <td>0.000000</td>\n      <td>0.000474</td>\n      <td>0.197183</td>\n      <td>0.063006</td>\n      <td>0.042237</td>\n      <td>0.0</td>\n      <td>1</td>\n      <td>0</td>\n      <td>0</td>\n      <td>0</td>\n      <td>...</td>\n      <td>0</td>\n      <td>1</td>\n      <td>0</td>\n      <td>0</td>\n      <td>0</td>\n      <td>0</td>\n      <td>0</td>\n      <td>0</td>\n      <td>0</td>\n      <td>1</td>\n    </tr>\n    <tr>\n      <th>1</th>\n      <td>0.000000</td>\n      <td>0.001920</td>\n      <td>0.145875</td>\n      <td>0.054913</td>\n      <td>0.049868</td>\n      <td>0.0</td>\n      <td>1</td>\n      <td>0</td>\n      <td>0</td>\n      <td>0</td>\n      <td>...</td>\n      <td>0</td>\n      <td>1</td>\n      <td>0</td>\n      <td>0</td>\n      <td>0</td>\n      <td>0</td>\n      <td>0</td>\n      <td>0</td>\n      <td>0</td>\n      <td>1</td>\n    </tr>\n    <tr>\n      <th>2</th>\n      <td>0.035714</td>\n      <td>0.007161</td>\n      <td>0.175050</td>\n      <td>0.041618</td>\n      <td>0.025297</td>\n      <td>0.0</td>\n      <td>1</td>\n      <td>0</td>\n      <td>0</td>\n      <td>0</td>\n      <td>...</td>\n      <td>0</td>\n      <td>1</td>\n      <td>0</td>\n      <td>0</td>\n      <td>0</td>\n      <td>0</td>\n      <td>0</td>\n      <td>0</td>\n      <td>0</td>\n      <td>1</td>\n    </tr>\n    <tr>\n      <th>3</th>\n      <td>0.035714</td>\n      <td>0.003125</td>\n      <td>0.145875</td>\n      <td>0.054913</td>\n      <td>0.012449</td>\n      <td>0.0</td>\n      <td>1</td>\n      <td>0</td>\n      <td>0</td>\n      <td>0</td>\n      <td>...</td>\n      <td>0</td>\n      <td>1</td>\n      <td>0</td>\n      <td>0</td>\n      <td>0</td>\n      <td>0</td>\n      <td>0</td>\n      <td>0</td>\n      <td>0</td>\n      <td>1</td>\n    </tr>\n    <tr>\n      <th>4</th>\n      <td>0.035714</td>\n      <td>0.001357</td>\n      <td>0.145875</td>\n      <td>0.050867</td>\n      <td>0.060526</td>\n      <td>0.0</td>\n      <td>1</td>\n      <td>0</td>\n      <td>0</td>\n      <td>0</td>\n      <td>...</td>\n      <td>0</td>\n      <td>1</td>\n      <td>0</td>\n      <td>0</td>\n      <td>0</td>\n      <td>0</td>\n      <td>0</td>\n      <td>0</td>\n      <td>0</td>\n      <td>1</td>\n    </tr>\n  </tbody>\n</table>\n<p>5 rows × 1242 columns</p>\n</div>"
     },
     "execution_count": 69,
     "metadata": {},
     "output_type": "execute_result"
    }
   ],
   "source": [
    "dummy = pd.get_dummies(df)\n",
    "dummy.head()"
   ],
   "metadata": {
    "collapsed": false,
    "ExecuteTime": {
     "end_time": "2023-08-01T17:11:49.987320600Z",
     "start_time": "2023-08-01T17:11:48.926007900Z"
    }
   }
  },
  {
   "cell_type": "markdown",
   "source": [
    "All categorical variables were converted into numerical variables using dummy variables. (One hot encoding)"
   ],
   "metadata": {
    "collapsed": false
   }
  },
  {
   "cell_type": "code",
   "execution_count": 70,
   "outputs": [],
   "source": [
    "lista = []\n",
    "for column_header in dummy.columns:\n",
    "    lista.append(column_header)\n",
    "lista.remove('price_in_euro')"
   ],
   "metadata": {
    "collapsed": false,
    "ExecuteTime": {
     "end_time": "2023-08-01T17:11:49.995031700Z",
     "start_time": "2023-08-01T17:11:49.990321700Z"
    }
   }
  },
  {
   "cell_type": "code",
   "execution_count": 71,
   "outputs": [],
   "source": [
    "x = dummy[lista]\n",
    "y = dummy['price_in_euro']\n",
    "x_train, x_test, y_train, y_test = train_test_split(x, y, test_size=0.2, random_state=4)"
   ],
   "metadata": {
    "collapsed": false,
    "ExecuteTime": {
     "end_time": "2023-08-01T17:11:51.789287900Z",
     "start_time": "2023-08-01T17:11:49.997033500Z"
    }
   }
  },
  {
   "cell_type": "markdown",
   "source": [
    "All variables are stored in variable _x_, except _price_in_euro_, which is stored in variable _y_, since it is our dependent variable. The data were randomly divided into training and test datasets, 20% of the data were saved in a test dataset."
   ],
   "metadata": {
    "collapsed": false
   }
  },
  {
   "cell_type": "markdown",
   "source": [
    "### Model Evaluation"
   ],
   "metadata": {
    "collapsed": false
   }
  },
  {
   "cell_type": "code",
   "execution_count": 72,
   "outputs": [
    {
     "name": "stdout",
     "output_type": "stream",
     "text": [
      "0.727166570902658\n"
     ]
    }
   ],
   "source": [
    "regression_tree = DecisionTreeRegressor()\n",
    "regression_tree.fit(x_train, y_train)\n",
    "print(regression_tree.score(x_test, y_test))"
   ],
   "metadata": {
    "collapsed": false,
    "ExecuteTime": {
     "end_time": "2023-08-01T17:12:05.893019300Z",
     "start_time": "2023-08-01T17:11:51.790289100Z"
    }
   }
  },
  {
   "cell_type": "markdown",
   "source": [
    "According to the R-squared metric (coefficient of determination), about 73% of the price change is explained by changes in the other variables."
   ],
   "metadata": {
    "collapsed": false
   }
  },
  {
   "cell_type": "code",
   "execution_count": 73,
   "outputs": [
    {
     "data": {
      "text/plain": "0.2216828662023496"
     },
     "execution_count": 73,
     "metadata": {},
     "output_type": "execute_result"
    }
   ],
   "source": [
    "prediction = regression_tree.predict(x_test)\n",
    "mape = mean_absolute_percentage_error(y_test, prediction)\n",
    "mape"
   ],
   "metadata": {
    "collapsed": false,
    "ExecuteTime": {
     "end_time": "2023-08-01T17:12:06.219447400Z",
     "start_time": "2023-08-01T17:12:05.892018800Z"
    }
   }
  },
  {
   "cell_type": "markdown",
   "source": [
    "From the Mean Absolute Percentage Error, the predicted values are on average about 0.22% of the true values."
   ],
   "metadata": {
    "collapsed": false
   }
  }
 ],
 "metadata": {
  "kernelspec": {
   "display_name": "Python 3",
   "language": "python",
   "name": "python3"
  },
  "language_info": {
   "codemirror_mode": {
    "name": "ipython",
    "version": 2
   },
   "file_extension": ".py",
   "mimetype": "text/x-python",
   "name": "python",
   "nbconvert_exporter": "python",
   "pygments_lexer": "ipython2",
   "version": "2.7.6"
  }
 },
 "nbformat": 4,
 "nbformat_minor": 0
}
