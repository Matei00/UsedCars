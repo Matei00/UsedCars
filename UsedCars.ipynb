{
 "cells": [
  {
   "cell_type": "code",
   "execution_count": 1,
   "metadata": {
    "collapsed": true,
    "ExecuteTime": {
     "end_time": "2023-07-29T12:38:59.030750900Z",
     "start_time": "2023-07-29T12:38:58.480568200Z"
    }
   },
   "outputs": [],
   "source": [
    "import pandas as pd\n",
    "import numpy as np"
   ]
  },
  {
   "cell_type": "code",
   "execution_count": 2,
   "outputs": [
    {
     "data": {
      "text/plain": "   Unnamed: 0       brand              model  color registration_date  year  \\\n0           0  alfa-romeo     Alfa Romeo GTV    red            Oct-95  1995   \n1           1  alfa-romeo     Alfa Romeo 164  black            Feb-95  1995   \n2           2  alfa-romeo  Alfa Romeo Spider  black            Feb-95  1995   \n3           3  alfa-romeo  Alfa Romeo Spider  black            Jul-95  1995   \n4           4  alfa-romeo     Alfa Romeo 164    red            Nov-96  1996   \n\n  price_in_euro power_kw power_ps transmission_type fuel_type  \\\n0          1300      148      201            Manual    Petrol   \n1         24900      191      260            Manual    Petrol   \n2          5900      110      150           Unknown    Petrol   \n3          4900      110      150            Manual    Petrol   \n4         17950      132      179            Manual    Petrol   \n\n  fuel_consumption_l_100km fuel_consumption_g_km  mileage_in_km  \\\n0            10,9 l/100 km              260 g/km       160500.0   \n1                      NaN                #NAME?       190000.0   \n2                      NaN                #NAME?       129000.0   \n3             9,5 l/100 km              225 g/km       189500.0   \n4             7,2 l/100 km                #NAME?        96127.0   \n\n                       offer_description  \n0                              2.0 V6 TB  \n1                    Q4 Allrad, 3.2L GTA  \n2                          ALFA ROME 916  \n3                   2.0 16V Twin Spark L  \n4  3.0i Super V6, absoluter Topzustand !  ",
      "text/html": "<div>\n<style scoped>\n    .dataframe tbody tr th:only-of-type {\n        vertical-align: middle;\n    }\n\n    .dataframe tbody tr th {\n        vertical-align: top;\n    }\n\n    .dataframe thead th {\n        text-align: right;\n    }\n</style>\n<table border=\"1\" class=\"dataframe\">\n  <thead>\n    <tr style=\"text-align: right;\">\n      <th></th>\n      <th>Unnamed: 0</th>\n      <th>brand</th>\n      <th>model</th>\n      <th>color</th>\n      <th>registration_date</th>\n      <th>year</th>\n      <th>price_in_euro</th>\n      <th>power_kw</th>\n      <th>power_ps</th>\n      <th>transmission_type</th>\n      <th>fuel_type</th>\n      <th>fuel_consumption_l_100km</th>\n      <th>fuel_consumption_g_km</th>\n      <th>mileage_in_km</th>\n      <th>offer_description</th>\n    </tr>\n  </thead>\n  <tbody>\n    <tr>\n      <th>0</th>\n      <td>0</td>\n      <td>alfa-romeo</td>\n      <td>Alfa Romeo GTV</td>\n      <td>red</td>\n      <td>Oct-95</td>\n      <td>1995</td>\n      <td>1300</td>\n      <td>148</td>\n      <td>201</td>\n      <td>Manual</td>\n      <td>Petrol</td>\n      <td>10,9 l/100 km</td>\n      <td>260 g/km</td>\n      <td>160500.0</td>\n      <td>2.0 V6 TB</td>\n    </tr>\n    <tr>\n      <th>1</th>\n      <td>1</td>\n      <td>alfa-romeo</td>\n      <td>Alfa Romeo 164</td>\n      <td>black</td>\n      <td>Feb-95</td>\n      <td>1995</td>\n      <td>24900</td>\n      <td>191</td>\n      <td>260</td>\n      <td>Manual</td>\n      <td>Petrol</td>\n      <td>NaN</td>\n      <td>#NAME?</td>\n      <td>190000.0</td>\n      <td>Q4 Allrad, 3.2L GTA</td>\n    </tr>\n    <tr>\n      <th>2</th>\n      <td>2</td>\n      <td>alfa-romeo</td>\n      <td>Alfa Romeo Spider</td>\n      <td>black</td>\n      <td>Feb-95</td>\n      <td>1995</td>\n      <td>5900</td>\n      <td>110</td>\n      <td>150</td>\n      <td>Unknown</td>\n      <td>Petrol</td>\n      <td>NaN</td>\n      <td>#NAME?</td>\n      <td>129000.0</td>\n      <td>ALFA ROME 916</td>\n    </tr>\n    <tr>\n      <th>3</th>\n      <td>3</td>\n      <td>alfa-romeo</td>\n      <td>Alfa Romeo Spider</td>\n      <td>black</td>\n      <td>Jul-95</td>\n      <td>1995</td>\n      <td>4900</td>\n      <td>110</td>\n      <td>150</td>\n      <td>Manual</td>\n      <td>Petrol</td>\n      <td>9,5 l/100 km</td>\n      <td>225 g/km</td>\n      <td>189500.0</td>\n      <td>2.0 16V Twin Spark L</td>\n    </tr>\n    <tr>\n      <th>4</th>\n      <td>4</td>\n      <td>alfa-romeo</td>\n      <td>Alfa Romeo 164</td>\n      <td>red</td>\n      <td>Nov-96</td>\n      <td>1996</td>\n      <td>17950</td>\n      <td>132</td>\n      <td>179</td>\n      <td>Manual</td>\n      <td>Petrol</td>\n      <td>7,2 l/100 km</td>\n      <td>#NAME?</td>\n      <td>96127.0</td>\n      <td>3.0i Super V6, absoluter Topzustand !</td>\n    </tr>\n  </tbody>\n</table>\n</div>"
     },
     "execution_count": 2,
     "metadata": {},
     "output_type": "execute_result"
    }
   ],
   "source": [
    "df = pd.read_csv('data.csv')\n",
    "df.head()"
   ],
   "metadata": {
    "collapsed": false,
    "ExecuteTime": {
     "end_time": "2023-07-29T12:38:59.646122700Z",
     "start_time": "2023-07-29T12:38:59.032725600Z"
    }
   }
  },
  {
   "cell_type": "code",
   "execution_count": 3,
   "outputs": [
    {
     "data": {
      "text/plain": "(251079, 15)"
     },
     "execution_count": 3,
     "metadata": {},
     "output_type": "execute_result"
    }
   ],
   "source": [
    "df.shape"
   ],
   "metadata": {
    "collapsed": false,
    "ExecuteTime": {
     "end_time": "2023-07-29T12:38:59.646122700Z",
     "start_time": "2023-07-29T12:38:59.646122700Z"
    }
   }
  },
  {
   "cell_type": "code",
   "execution_count": 4,
   "outputs": [
    {
     "name": "stdout",
     "output_type": "stream",
     "text": [
      "<class 'pandas.core.frame.DataFrame'>\n",
      "RangeIndex: 251079 entries, 0 to 251078\n",
      "Data columns (total 15 columns):\n",
      " #   Column                    Non-Null Count   Dtype  \n",
      "---  ------                    --------------   -----  \n",
      " 0   Unnamed: 0                251079 non-null  int64  \n",
      " 1   brand                     251079 non-null  object \n",
      " 2   model                     251079 non-null  object \n",
      " 3   color                     250913 non-null  object \n",
      " 4   registration_date         251075 non-null  object \n",
      " 5   year                      251079 non-null  object \n",
      " 6   price_in_euro             251079 non-null  object \n",
      " 7   power_kw                  250945 non-null  object \n",
      " 8   power_ps                  250950 non-null  object \n",
      " 9   transmission_type         251079 non-null  object \n",
      " 10  fuel_type                 251079 non-null  object \n",
      " 11  fuel_consumption_l_100km  224206 non-null  object \n",
      " 12  fuel_consumption_g_km     251079 non-null  object \n",
      " 13  mileage_in_km             250927 non-null  float64\n",
      " 14  offer_description         251078 non-null  object \n",
      "dtypes: float64(1), int64(1), object(13)\n",
      "memory usage: 28.7+ MB\n"
     ]
    }
   ],
   "source": [
    "df.info()"
   ],
   "metadata": {
    "collapsed": false,
    "ExecuteTime": {
     "end_time": "2023-07-29T12:38:59.969967500Z",
     "start_time": "2023-07-29T12:38:59.646122700Z"
    }
   }
  },
  {
   "cell_type": "code",
   "execution_count": 5,
   "outputs": [],
   "source": [
    "df.drop('Unnamed: 0', inplace=True, axis=1)\n",
    "df.drop('registration_date', inplace=True, axis=1)\n",
    "df.drop('power_kw', inplace=True, axis=1)\n",
    "df.drop('offer_description', inplace=True, axis=1)"
   ],
   "metadata": {
    "collapsed": false,
    "ExecuteTime": {
     "end_time": "2023-07-29T12:39:00.081662400Z",
     "start_time": "2023-07-29T12:38:59.972941200Z"
    }
   }
  },
  {
   "cell_type": "code",
   "execution_count": 6,
   "outputs": [
    {
     "data": {
      "text/plain": "array(['alfa-romeo', 'aston-martin', 'audi', 'bentley', 'bmw', 'cadillac',\n       'chevrolet', 'chrysler', 'citroen', 'dacia', 'daewoo', 'daihatsu',\n       'dodge', 'ferrari', 'fiat', 'ford', 'honda', 'hyundai', 'infiniti',\n       'isuzu', 'jaguar', 'jeep', 'kia', 'lada', 'lamborghini', 'lancia',\n       'land-rover', 'maserati', 'mazda', 'mercedes-benz', 'mini',\n       'mitsubishi', 'nissan', 'opel', 'peugeot', 'porsche', 'proton',\n       'renault', 'rover', 'saab', 'seat', 'skoda', 'smart', 'ssangyong',\n       'toyota', 'volkswagen', 'volvo'], dtype=object)"
     },
     "execution_count": 6,
     "metadata": {},
     "output_type": "execute_result"
    }
   ],
   "source": [
    "pd.unique(df['brand'])"
   ],
   "metadata": {
    "collapsed": false,
    "ExecuteTime": {
     "end_time": "2023-07-29T12:39:00.098798100Z",
     "start_time": "2023-07-29T12:39:00.081662400Z"
    }
   }
  },
  {
   "cell_type": "code",
   "execution_count": 7,
   "outputs": [],
   "source": [
    "df['brand'].replace('-', '', inplace=True, regex=True)\n",
    "df['model'].replace(' ', '', inplace=True, regex=True)\n",
    "df['model'].replace('-', '', inplace=True, regex=True)\n",
    "df['brand'] = df['brand'].apply(str.upper)\n",
    "df['model'] = df['model'].apply(str.upper)"
   ],
   "metadata": {
    "collapsed": false,
    "ExecuteTime": {
     "end_time": "2023-07-29T12:39:00.910536700Z",
     "start_time": "2023-07-29T12:39:00.099823400Z"
    }
   }
  },
  {
   "cell_type": "code",
   "execution_count": 8,
   "outputs": [
    {
     "data": {
      "text/plain": "        brand model   color  year price_in_euro power_ps transmission_type  \\\n251071  VOLVO  XC60  silver  2023         81350      310         Automatic   \n251072  VOLVO  XC60  silver  2023         55400      197         Automatic   \n251073  VOLVO  XC60  silver  2023         54500      197         Automatic   \n251075  VOLVO  XC90   white  2023         89690      235         Automatic   \n251076  VOLVO   V60   white  2023         61521      197         Automatic   \n\n       fuel_type fuel_consumption_l_100km fuel_consumption_g_km  mileage_in_km  \n251071    Hybrid             7,4 l/100 km              167 g/km           60.0  \n251072    Diesel             5,6 l/100 km              142 g/km         5000.0  \n251073    Diesel             5,6 l/100 km              142 g/km         5900.0  \n251075    Diesel             7,6 l/100 km              202 g/km         4900.0  \n251076    Diesel             4,7 l/100 km              125 g/km         1531.0  ",
      "text/html": "<div>\n<style scoped>\n    .dataframe tbody tr th:only-of-type {\n        vertical-align: middle;\n    }\n\n    .dataframe tbody tr th {\n        vertical-align: top;\n    }\n\n    .dataframe thead th {\n        text-align: right;\n    }\n</style>\n<table border=\"1\" class=\"dataframe\">\n  <thead>\n    <tr style=\"text-align: right;\">\n      <th></th>\n      <th>brand</th>\n      <th>model</th>\n      <th>color</th>\n      <th>year</th>\n      <th>price_in_euro</th>\n      <th>power_ps</th>\n      <th>transmission_type</th>\n      <th>fuel_type</th>\n      <th>fuel_consumption_l_100km</th>\n      <th>fuel_consumption_g_km</th>\n      <th>mileage_in_km</th>\n    </tr>\n  </thead>\n  <tbody>\n    <tr>\n      <th>251071</th>\n      <td>VOLVO</td>\n      <td>XC60</td>\n      <td>silver</td>\n      <td>2023</td>\n      <td>81350</td>\n      <td>310</td>\n      <td>Automatic</td>\n      <td>Hybrid</td>\n      <td>7,4 l/100 km</td>\n      <td>167 g/km</td>\n      <td>60.0</td>\n    </tr>\n    <tr>\n      <th>251072</th>\n      <td>VOLVO</td>\n      <td>XC60</td>\n      <td>silver</td>\n      <td>2023</td>\n      <td>55400</td>\n      <td>197</td>\n      <td>Automatic</td>\n      <td>Diesel</td>\n      <td>5,6 l/100 km</td>\n      <td>142 g/km</td>\n      <td>5000.0</td>\n    </tr>\n    <tr>\n      <th>251073</th>\n      <td>VOLVO</td>\n      <td>XC60</td>\n      <td>silver</td>\n      <td>2023</td>\n      <td>54500</td>\n      <td>197</td>\n      <td>Automatic</td>\n      <td>Diesel</td>\n      <td>5,6 l/100 km</td>\n      <td>142 g/km</td>\n      <td>5900.0</td>\n    </tr>\n    <tr>\n      <th>251075</th>\n      <td>VOLVO</td>\n      <td>XC90</td>\n      <td>white</td>\n      <td>2023</td>\n      <td>89690</td>\n      <td>235</td>\n      <td>Automatic</td>\n      <td>Diesel</td>\n      <td>7,6 l/100 km</td>\n      <td>202 g/km</td>\n      <td>4900.0</td>\n    </tr>\n    <tr>\n      <th>251076</th>\n      <td>VOLVO</td>\n      <td>V60</td>\n      <td>white</td>\n      <td>2023</td>\n      <td>61521</td>\n      <td>197</td>\n      <td>Automatic</td>\n      <td>Diesel</td>\n      <td>4,7 l/100 km</td>\n      <td>125 g/km</td>\n      <td>1531.0</td>\n    </tr>\n  </tbody>\n</table>\n</div>"
     },
     "execution_count": 8,
     "metadata": {},
     "output_type": "execute_result"
    }
   ],
   "source": [
    "for index, row in df.iterrows():\n",
    "    brand = row['brand']\n",
    "    model = row['model']\n",
    "    new_model = model.replace(brand, '')\n",
    "    df.at[index, 'model'] = new_model\n",
    "df['model'].replace('', np.nan, inplace=True, regex=True)\n",
    "df.dropna(inplace=True)\n",
    "df.tail()"
   ],
   "metadata": {
    "collapsed": false,
    "ExecuteTime": {
     "end_time": "2023-07-29T12:39:14.419997400Z",
     "start_time": "2023-07-29T12:39:00.911543400Z"
    }
   }
  },
  {
   "cell_type": "code",
   "execution_count": 9,
   "outputs": [],
   "source": [
    "df['year'] = pd.to_datetime(df['year'], errors='coerce')\n",
    "df['year'] = df['year'].dt.year\n",
    "df.dropna(inplace=True)"
   ],
   "metadata": {
    "collapsed": false,
    "ExecuteTime": {
     "end_time": "2023-07-29T12:39:14.691744200Z",
     "start_time": "2023-07-29T12:39:14.428180300Z"
    }
   }
  },
  {
   "cell_type": "code",
   "execution_count": 10,
   "outputs": [],
   "source": [
    "df['transmission_type'].replace('Unknown', np.nan, inplace=True, regex=True)\n",
    "df.dropna(inplace=True)"
   ],
   "metadata": {
    "collapsed": false,
    "ExecuteTime": {
     "end_time": "2023-07-29T12:39:15.137763300Z",
     "start_time": "2023-07-29T12:39:14.692711600Z"
    }
   }
  },
  {
   "cell_type": "code",
   "execution_count": 11,
   "outputs": [],
   "source": [
    "df['fuel_type'].replace('Unknown', np.nan, inplace=True, regex=True)\n",
    "aux = df.loc[df['fuel_type'] == 'Electric', 'fuel_consumption_g_km'].tolist()\n",
    "df.loc[df['fuel_type'] == 'Electric', 'electric_range'] = aux\n",
    "df.drop('fuel_consumption_g_km', inplace=True, axis=1)\n",
    "df.loc[df['fuel_type'] == 'Electric', 'fuel_consumption_l_100km'] = 0\n",
    "df.loc[df['fuel_type'] != 'Electric', 'electric_range'] = 0\n",
    "df['fuel_type'].replace('Other', np.nan, inplace=True, regex=True)\n",
    "df['fuel_type'].replace('Hydrogen', np.nan, inplace=True, regex=True)\n",
    "df['fuel_type'].replace('Ethanol', np.nan, inplace=True, regex=True)\n",
    "df.dropna(inplace=True)"
   ],
   "metadata": {
    "collapsed": false,
    "ExecuteTime": {
     "end_time": "2023-07-29T12:39:16.071931900Z",
     "start_time": "2023-07-29T12:39:15.139761800Z"
    }
   }
  },
  {
   "cell_type": "code",
   "execution_count": 12,
   "outputs": [],
   "source": [
    "df['fuel_consumption_l_100km'].replace('-', '', inplace=True, regex=True)\n",
    "df['fuel_consumption_l_100km'].replace(' ', '', inplace=True, regex=True)\n",
    "df['fuel_consumption_l_100km'].replace('kg/100km', '', inplace=True, regex=True)\n",
    "df['fuel_consumption_l_100km'].replace('l/100km', '', inplace=True, regex=True)\n",
    "df['fuel_consumption_l_100km'].replace('\\(\\)', np.nan, inplace=True, regex=True)\n",
    "df['fuel_consumption_l_100km'].replace('kWh/100km', 'zzz', inplace=True, regex=True)\n",
    "df['fuel_consumption_l_100km'].replace('km\\(Ort\\)', 'zzz', inplace=True, regex=True)\n",
    "df['fuel_consumption_l_100km'] = df['fuel_consumption_l_100km'].astype(str)\n",
    "df = df[df['fuel_consumption_l_100km'].str.contains('zzz') == False]\n",
    "df['fuel_consumption_l_100km'].replace(',', '.', inplace=True, regex=True)\n",
    "df.dropna(inplace=True)\n",
    "df = df.copy()"
   ],
   "metadata": {
    "collapsed": false,
    "ExecuteTime": {
     "end_time": "2023-07-29T12:39:17.948257100Z",
     "start_time": "2023-07-29T12:39:16.102163500Z"
    }
   }
  },
  {
   "cell_type": "code",
   "execution_count": 13,
   "outputs": [],
   "source": [
    "df['electric_range'].replace(' ', '', inplace=True, regex=True)\n",
    "df['electric_range'].replace('kmReichweite', '', inplace=True, regex=True)\n",
    "df['electric_range'].replace('g/km', 'zzz', inplace=True, regex=True)\n",
    "df = df.drop(df[(df['fuel_type'] == 'Electric') & (df['electric_range'].str.contains('zzz') == True)].index)"
   ],
   "metadata": {
    "collapsed": false,
    "ExecuteTime": {
     "end_time": "2023-07-29T12:39:18.694636200Z",
     "start_time": "2023-07-29T12:39:17.949225700Z"
    }
   }
  },
  {
   "cell_type": "code",
   "execution_count": 14,
   "outputs": [
    {
     "name": "stdout",
     "output_type": "stream",
     "text": [
      "<class 'pandas.core.frame.DataFrame'>\n",
      "Int64Index: 221549 entries, 0 to 251076\n",
      "Data columns (total 11 columns):\n",
      " #   Column                    Non-Null Count   Dtype  \n",
      "---  ------                    --------------   -----  \n",
      " 0   brand                     221549 non-null  object \n",
      " 1   model                     221549 non-null  object \n",
      " 2   color                     221549 non-null  object \n",
      " 3   year                      221549 non-null  float64\n",
      " 4   price_in_euro             221549 non-null  object \n",
      " 5   power_ps                  221549 non-null  object \n",
      " 6   transmission_type         221549 non-null  object \n",
      " 7   fuel_type                 221549 non-null  object \n",
      " 8   fuel_consumption_l_100km  221549 non-null  object \n",
      " 9   mileage_in_km             221549 non-null  float64\n",
      " 10  electric_range            221549 non-null  object \n",
      "dtypes: float64(2), object(9)\n",
      "memory usage: 20.3+ MB\n"
     ]
    }
   ],
   "source": [
    "df.info()"
   ],
   "metadata": {
    "collapsed": false,
    "ExecuteTime": {
     "end_time": "2023-07-29T12:39:18.903258100Z",
     "start_time": "2023-07-29T12:39:18.696211400Z"
    }
   }
  },
  {
   "cell_type": "code",
   "execution_count": 15,
   "outputs": [
    {
     "name": "stdout",
     "output_type": "stream",
     "text": [
      "<class 'pandas.core.frame.DataFrame'>\n",
      "Int64Index: 220469 entries, 0 to 251076\n",
      "Data columns (total 11 columns):\n",
      " #   Column                    Non-Null Count   Dtype  \n",
      "---  ------                    --------------   -----  \n",
      " 0   brand                     220469 non-null  object \n",
      " 1   model                     220469 non-null  object \n",
      " 2   color                     220469 non-null  object \n",
      " 3   year                      220469 non-null  float64\n",
      " 4   price_in_euro             220469 non-null  float64\n",
      " 5   power_ps                  220469 non-null  float64\n",
      " 6   transmission_type         220469 non-null  object \n",
      " 7   fuel_type                 220469 non-null  object \n",
      " 8   fuel_consumption_l_100km  220469 non-null  float64\n",
      " 9   mileage_in_km             220469 non-null  float64\n",
      " 10  electric_range            220469 non-null  float64\n",
      "dtypes: float64(6), object(5)\n",
      "memory usage: 20.2+ MB\n"
     ]
    }
   ],
   "source": [
    "df['price_in_euro'] = df['price_in_euro'].astype(float)\n",
    "df['power_ps'] = df['power_ps'].astype(float)\n",
    "df['fuel_consumption_l_100km'] = df['fuel_consumption_l_100km'].astype(float)\n",
    "df['electric_range'] = df['electric_range'].astype(float)\n",
    "df.dropna(inplace=True)\n",
    "df.info()"
   ],
   "metadata": {
    "collapsed": false,
    "ExecuteTime": {
     "end_time": "2023-07-29T12:39:19.328522100Z",
     "start_time": "2023-07-29T12:39:18.904246300Z"
    }
   }
  },
  {
   "cell_type": "code",
   "execution_count": 16,
   "outputs": [],
   "source": [
    "df = df.drop(df[(df['fuel_type'] == 'Electric') & (df['electric_range'] == 0)].index)\n",
    "df = df.drop(df[~df['fuel_type'].isin(['Electric', 'Hybrid', 'Diesel Hybrid']) & (df['fuel_consumption_l_100km'] <= 1)].index)\n",
    "df = df.drop(df[df['fuel_type'].isin(['Hybrid', 'Diesel Hybrid']) & (df['fuel_consumption_l_100km'] == 0)].index)"
   ],
   "metadata": {
    "collapsed": false,
    "ExecuteTime": {
     "end_time": "2023-07-29T12:39:19.439630800Z",
     "start_time": "2023-07-29T12:39:19.329549Z"
    }
   }
  },
  {
   "cell_type": "code",
   "execution_count": 17,
   "outputs": [],
   "source": [
    "df.reset_index(inplace=True, drop=True)"
   ],
   "metadata": {
    "collapsed": false,
    "ExecuteTime": {
     "end_time": "2023-07-29T12:39:19.443846200Z",
     "start_time": "2023-07-29T12:39:19.441629600Z"
    }
   }
  },
  {
   "cell_type": "code",
   "execution_count": 18,
   "outputs": [],
   "source": [
    "df.to_csv('new.csv')"
   ],
   "metadata": {
    "collapsed": false,
    "ExecuteTime": {
     "end_time": "2023-07-29T12:39:20.676350800Z",
     "start_time": "2023-07-29T12:39:19.444846500Z"
    }
   }
  },
  {
   "cell_type": "code",
   "execution_count": 19,
   "outputs": [
    {
     "data": {
      "text/plain": "       brand   model  color    year  price_in_euro  power_ps  \\\n0  ALFAROMEO     GTV    red  1995.0         1300.0     201.0   \n1  ALFAROMEO  SPIDER  black  1995.0         4900.0     150.0   \n2  ALFAROMEO     164    red  1996.0        17950.0     179.0   \n3  ALFAROMEO  SPIDER    red  1996.0         7900.0     150.0   \n4  ALFAROMEO     145    red  1996.0         3500.0     150.0   \n\n  transmission_type fuel_type  fuel_consumption_l_100km  mileage_in_km  \\\n0            Manual    Petrol                      10.9       160500.0   \n1            Manual    Petrol                       9.5       189500.0   \n2            Manual    Petrol                       7.2        96127.0   \n3            Manual    Petrol                       9.5        47307.0   \n4            Manual    Petrol                       8.8       230000.0   \n\n   electric_range  \n0             0.0  \n1             0.0  \n2             0.0  \n3             0.0  \n4             0.0  ",
      "text/html": "<div>\n<style scoped>\n    .dataframe tbody tr th:only-of-type {\n        vertical-align: middle;\n    }\n\n    .dataframe tbody tr th {\n        vertical-align: top;\n    }\n\n    .dataframe thead th {\n        text-align: right;\n    }\n</style>\n<table border=\"1\" class=\"dataframe\">\n  <thead>\n    <tr style=\"text-align: right;\">\n      <th></th>\n      <th>brand</th>\n      <th>model</th>\n      <th>color</th>\n      <th>year</th>\n      <th>price_in_euro</th>\n      <th>power_ps</th>\n      <th>transmission_type</th>\n      <th>fuel_type</th>\n      <th>fuel_consumption_l_100km</th>\n      <th>mileage_in_km</th>\n      <th>electric_range</th>\n    </tr>\n  </thead>\n  <tbody>\n    <tr>\n      <th>0</th>\n      <td>ALFAROMEO</td>\n      <td>GTV</td>\n      <td>red</td>\n      <td>1995.0</td>\n      <td>1300.0</td>\n      <td>201.0</td>\n      <td>Manual</td>\n      <td>Petrol</td>\n      <td>10.9</td>\n      <td>160500.0</td>\n      <td>0.0</td>\n    </tr>\n    <tr>\n      <th>1</th>\n      <td>ALFAROMEO</td>\n      <td>SPIDER</td>\n      <td>black</td>\n      <td>1995.0</td>\n      <td>4900.0</td>\n      <td>150.0</td>\n      <td>Manual</td>\n      <td>Petrol</td>\n      <td>9.5</td>\n      <td>189500.0</td>\n      <td>0.0</td>\n    </tr>\n    <tr>\n      <th>2</th>\n      <td>ALFAROMEO</td>\n      <td>164</td>\n      <td>red</td>\n      <td>1996.0</td>\n      <td>17950.0</td>\n      <td>179.0</td>\n      <td>Manual</td>\n      <td>Petrol</td>\n      <td>7.2</td>\n      <td>96127.0</td>\n      <td>0.0</td>\n    </tr>\n    <tr>\n      <th>3</th>\n      <td>ALFAROMEO</td>\n      <td>SPIDER</td>\n      <td>red</td>\n      <td>1996.0</td>\n      <td>7900.0</td>\n      <td>150.0</td>\n      <td>Manual</td>\n      <td>Petrol</td>\n      <td>9.5</td>\n      <td>47307.0</td>\n      <td>0.0</td>\n    </tr>\n    <tr>\n      <th>4</th>\n      <td>ALFAROMEO</td>\n      <td>145</td>\n      <td>red</td>\n      <td>1996.0</td>\n      <td>3500.0</td>\n      <td>150.0</td>\n      <td>Manual</td>\n      <td>Petrol</td>\n      <td>8.8</td>\n      <td>230000.0</td>\n      <td>0.0</td>\n    </tr>\n  </tbody>\n</table>\n</div>"
     },
     "execution_count": 19,
     "metadata": {},
     "output_type": "execute_result"
    }
   ],
   "source": [
    "df.head()"
   ],
   "metadata": {
    "collapsed": false,
    "ExecuteTime": {
     "end_time": "2023-07-29T12:39:20.688937600Z",
     "start_time": "2023-07-29T12:39:20.676856500Z"
    }
   }
  },
  {
   "cell_type": "code",
   "execution_count": 20,
   "outputs": [
    {
     "data": {
      "text/plain": "(220403, 11)"
     },
     "execution_count": 20,
     "metadata": {},
     "output_type": "execute_result"
    }
   ],
   "source": [
    "df.shape"
   ],
   "metadata": {
    "collapsed": false,
    "ExecuteTime": {
     "end_time": "2023-07-29T12:39:20.695307900Z",
     "start_time": "2023-07-29T12:39:20.689926200Z"
    }
   }
  },
  {
   "cell_type": "code",
   "execution_count": 21,
   "outputs": [
    {
     "data": {
      "text/plain": "                year  price_in_euro       power_ps  fuel_consumption_l_100km  \\\ncount  220403.000000   2.204030e+05  220403.000000             220403.000000   \nmean     2016.104441   2.501525e+04     168.976516                  6.080122   \nstd         5.441648   3.149883e+04      93.725653                  2.591899   \nmin      1995.000000   1.200000e+02       5.000000                  0.000000   \n25%      2013.000000   1.160000e+04     110.000000                  4.900000   \n50%      2017.000000   1.919000e+04     150.000000                  5.700000   \n75%      2020.000000   2.899000e+04     190.000000                  6.800000   \nmax      2023.000000   2.490000e+06     999.000000                173.000000   \n\n       mileage_in_km  electric_range  \ncount   2.204030e+05   220403.000000  \nmean    8.790944e+04        0.501599  \nstd     7.918609e+04       13.592062  \nmin     0.000000e+00        0.000000  \n25%     2.701200e+04        0.000000  \n50%     7.100000e+04        0.000000  \n75%     1.300000e+05        0.000000  \nmax     3.800000e+06      615.000000  ",
      "text/html": "<div>\n<style scoped>\n    .dataframe tbody tr th:only-of-type {\n        vertical-align: middle;\n    }\n\n    .dataframe tbody tr th {\n        vertical-align: top;\n    }\n\n    .dataframe thead th {\n        text-align: right;\n    }\n</style>\n<table border=\"1\" class=\"dataframe\">\n  <thead>\n    <tr style=\"text-align: right;\">\n      <th></th>\n      <th>year</th>\n      <th>price_in_euro</th>\n      <th>power_ps</th>\n      <th>fuel_consumption_l_100km</th>\n      <th>mileage_in_km</th>\n      <th>electric_range</th>\n    </tr>\n  </thead>\n  <tbody>\n    <tr>\n      <th>count</th>\n      <td>220403.000000</td>\n      <td>2.204030e+05</td>\n      <td>220403.000000</td>\n      <td>220403.000000</td>\n      <td>2.204030e+05</td>\n      <td>220403.000000</td>\n    </tr>\n    <tr>\n      <th>mean</th>\n      <td>2016.104441</td>\n      <td>2.501525e+04</td>\n      <td>168.976516</td>\n      <td>6.080122</td>\n      <td>8.790944e+04</td>\n      <td>0.501599</td>\n    </tr>\n    <tr>\n      <th>std</th>\n      <td>5.441648</td>\n      <td>3.149883e+04</td>\n      <td>93.725653</td>\n      <td>2.591899</td>\n      <td>7.918609e+04</td>\n      <td>13.592062</td>\n    </tr>\n    <tr>\n      <th>min</th>\n      <td>1995.000000</td>\n      <td>1.200000e+02</td>\n      <td>5.000000</td>\n      <td>0.000000</td>\n      <td>0.000000e+00</td>\n      <td>0.000000</td>\n    </tr>\n    <tr>\n      <th>25%</th>\n      <td>2013.000000</td>\n      <td>1.160000e+04</td>\n      <td>110.000000</td>\n      <td>4.900000</td>\n      <td>2.701200e+04</td>\n      <td>0.000000</td>\n    </tr>\n    <tr>\n      <th>50%</th>\n      <td>2017.000000</td>\n      <td>1.919000e+04</td>\n      <td>150.000000</td>\n      <td>5.700000</td>\n      <td>7.100000e+04</td>\n      <td>0.000000</td>\n    </tr>\n    <tr>\n      <th>75%</th>\n      <td>2020.000000</td>\n      <td>2.899000e+04</td>\n      <td>190.000000</td>\n      <td>6.800000</td>\n      <td>1.300000e+05</td>\n      <td>0.000000</td>\n    </tr>\n    <tr>\n      <th>max</th>\n      <td>2023.000000</td>\n      <td>2.490000e+06</td>\n      <td>999.000000</td>\n      <td>173.000000</td>\n      <td>3.800000e+06</td>\n      <td>615.000000</td>\n    </tr>\n  </tbody>\n</table>\n</div>"
     },
     "execution_count": 21,
     "metadata": {},
     "output_type": "execute_result"
    }
   ],
   "source": [
    "df.describe()"
   ],
   "metadata": {
    "collapsed": false,
    "ExecuteTime": {
     "end_time": "2023-07-29T12:39:20.810727Z",
     "start_time": "2023-07-29T12:39:20.696812600Z"
    }
   }
  },
  {
   "cell_type": "code",
   "execution_count": 22,
   "outputs": [
    {
     "data": {
      "text/plain": "             brand   model   color transmission_type fuel_type\ncount       220403  220403  220403            220403    220403\nunique          47    1165      14                 3         7\ntop     VOLKSWAGEN    GOLF   black         Automatic    Petrol\nfreq         30009    6928   52245            112646    130052",
      "text/html": "<div>\n<style scoped>\n    .dataframe tbody tr th:only-of-type {\n        vertical-align: middle;\n    }\n\n    .dataframe tbody tr th {\n        vertical-align: top;\n    }\n\n    .dataframe thead th {\n        text-align: right;\n    }\n</style>\n<table border=\"1\" class=\"dataframe\">\n  <thead>\n    <tr style=\"text-align: right;\">\n      <th></th>\n      <th>brand</th>\n      <th>model</th>\n      <th>color</th>\n      <th>transmission_type</th>\n      <th>fuel_type</th>\n    </tr>\n  </thead>\n  <tbody>\n    <tr>\n      <th>count</th>\n      <td>220403</td>\n      <td>220403</td>\n      <td>220403</td>\n      <td>220403</td>\n      <td>220403</td>\n    </tr>\n    <tr>\n      <th>unique</th>\n      <td>47</td>\n      <td>1165</td>\n      <td>14</td>\n      <td>3</td>\n      <td>7</td>\n    </tr>\n    <tr>\n      <th>top</th>\n      <td>VOLKSWAGEN</td>\n      <td>GOLF</td>\n      <td>black</td>\n      <td>Automatic</td>\n      <td>Petrol</td>\n    </tr>\n    <tr>\n      <th>freq</th>\n      <td>30009</td>\n      <td>6928</td>\n      <td>52245</td>\n      <td>112646</td>\n      <td>130052</td>\n    </tr>\n  </tbody>\n</table>\n</div>"
     },
     "execution_count": 22,
     "metadata": {},
     "output_type": "execute_result"
    }
   ],
   "source": [
    "df[['brand', 'model', 'color', 'transmission_type', 'fuel_type']].describe(include='all')"
   ],
   "metadata": {
    "collapsed": false,
    "ExecuteTime": {
     "end_time": "2023-07-29T12:39:20.920436300Z",
     "start_time": "2023-07-29T12:39:20.747167300Z"
    }
   }
  },
  {
   "cell_type": "code",
   "execution_count": 23,
   "outputs": [
    {
     "name": "stdout",
     "output_type": "stream",
     "text": [
      "<class 'pandas.core.frame.DataFrame'>\n",
      "RangeIndex: 220403 entries, 0 to 220402\n",
      "Data columns (total 11 columns):\n",
      " #   Column                    Non-Null Count   Dtype  \n",
      "---  ------                    --------------   -----  \n",
      " 0   brand                     220403 non-null  object \n",
      " 1   model                     220403 non-null  object \n",
      " 2   color                     220403 non-null  object \n",
      " 3   year                      220403 non-null  float64\n",
      " 4   price_in_euro             220403 non-null  float64\n",
      " 5   power_ps                  220403 non-null  float64\n",
      " 6   transmission_type         220403 non-null  object \n",
      " 7   fuel_type                 220403 non-null  object \n",
      " 8   fuel_consumption_l_100km  220403 non-null  float64\n",
      " 9   mileage_in_km             220403 non-null  float64\n",
      " 10  electric_range            220403 non-null  float64\n",
      "dtypes: float64(6), object(5)\n",
      "memory usage: 18.5+ MB\n"
     ]
    }
   ],
   "source": [
    "df.info()"
   ],
   "metadata": {
    "collapsed": false,
    "ExecuteTime": {
     "end_time": "2023-07-29T12:39:21.048217800Z",
     "start_time": "2023-07-29T12:39:20.864528200Z"
    }
   }
  }
 ],
 "metadata": {
  "kernelspec": {
   "display_name": "Python 3",
   "language": "python",
   "name": "python3"
  },
  "language_info": {
   "codemirror_mode": {
    "name": "ipython",
    "version": 2
   },
   "file_extension": ".py",
   "mimetype": "text/x-python",
   "name": "python",
   "nbconvert_exporter": "python",
   "pygments_lexer": "ipython2",
   "version": "2.7.6"
  }
 },
 "nbformat": 4,
 "nbformat_minor": 0
}
